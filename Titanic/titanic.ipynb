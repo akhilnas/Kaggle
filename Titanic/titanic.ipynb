{
 "cells": [
  {
   "cell_type": "markdown",
   "metadata": {},
   "source": [
    "# Titanic Dataset"
   ]
  },
  {
   "cell_type": "markdown",
   "metadata": {},
   "source": [
    "This Notebook deals with the Titanic Dataset available on Kaggle."
   ]
  },
  {
   "cell_type": "markdown",
   "metadata": {},
   "source": [
    "# Required Libraries"
   ]
  },
  {
   "cell_type": "code",
   "execution_count": 49,
   "metadata": {},
   "outputs": [],
   "source": [
    "import numpy as np\n",
    "import pandas as pd\n",
    "import matplotlib.pyplot as plt\n",
    "%matplotlib inline\n",
    "import seaborn as sns\n",
    "from pandas_visual_analysis import VisualAnalysis\n",
    "from sklearn.metrics import confusion_matrix\n",
    "from sklearn.metrics import plot_confusion_matrix"
   ]
  },
  {
   "cell_type": "markdown",
   "metadata": {},
   "source": [
    "# Exploratory Data Analysis"
   ]
  },
  {
   "cell_type": "code",
   "execution_count": 2,
   "metadata": {},
   "outputs": [
    {
     "data": {
      "text/html": [
       "<div>\n",
       "<style scoped>\n",
       "    .dataframe tbody tr th:only-of-type {\n",
       "        vertical-align: middle;\n",
       "    }\n",
       "\n",
       "    .dataframe tbody tr th {\n",
       "        vertical-align: top;\n",
       "    }\n",
       "\n",
       "    .dataframe thead th {\n",
       "        text-align: right;\n",
       "    }\n",
       "</style>\n",
       "<table border=\"1\" class=\"dataframe\">\n",
       "  <thead>\n",
       "    <tr style=\"text-align: right;\">\n",
       "      <th></th>\n",
       "      <th>PassengerId</th>\n",
       "      <th>Survived</th>\n",
       "      <th>Pclass</th>\n",
       "      <th>Name</th>\n",
       "      <th>Sex</th>\n",
       "      <th>Age</th>\n",
       "      <th>SibSp</th>\n",
       "      <th>Parch</th>\n",
       "      <th>Ticket</th>\n",
       "      <th>Fare</th>\n",
       "      <th>Cabin</th>\n",
       "      <th>Embarked</th>\n",
       "    </tr>\n",
       "  </thead>\n",
       "  <tbody>\n",
       "    <tr>\n",
       "      <th>0</th>\n",
       "      <td>1</td>\n",
       "      <td>0</td>\n",
       "      <td>3</td>\n",
       "      <td>Braund, Mr. Owen Harris</td>\n",
       "      <td>male</td>\n",
       "      <td>22.0</td>\n",
       "      <td>1</td>\n",
       "      <td>0</td>\n",
       "      <td>A/5 21171</td>\n",
       "      <td>7.2500</td>\n",
       "      <td>NaN</td>\n",
       "      <td>S</td>\n",
       "    </tr>\n",
       "    <tr>\n",
       "      <th>1</th>\n",
       "      <td>2</td>\n",
       "      <td>1</td>\n",
       "      <td>1</td>\n",
       "      <td>Cumings, Mrs. John Bradley (Florence Briggs Th...</td>\n",
       "      <td>female</td>\n",
       "      <td>38.0</td>\n",
       "      <td>1</td>\n",
       "      <td>0</td>\n",
       "      <td>PC 17599</td>\n",
       "      <td>71.2833</td>\n",
       "      <td>C85</td>\n",
       "      <td>C</td>\n",
       "    </tr>\n",
       "    <tr>\n",
       "      <th>2</th>\n",
       "      <td>3</td>\n",
       "      <td>1</td>\n",
       "      <td>3</td>\n",
       "      <td>Heikkinen, Miss. Laina</td>\n",
       "      <td>female</td>\n",
       "      <td>26.0</td>\n",
       "      <td>0</td>\n",
       "      <td>0</td>\n",
       "      <td>STON/O2. 3101282</td>\n",
       "      <td>7.9250</td>\n",
       "      <td>NaN</td>\n",
       "      <td>S</td>\n",
       "    </tr>\n",
       "    <tr>\n",
       "      <th>3</th>\n",
       "      <td>4</td>\n",
       "      <td>1</td>\n",
       "      <td>1</td>\n",
       "      <td>Futrelle, Mrs. Jacques Heath (Lily May Peel)</td>\n",
       "      <td>female</td>\n",
       "      <td>35.0</td>\n",
       "      <td>1</td>\n",
       "      <td>0</td>\n",
       "      <td>113803</td>\n",
       "      <td>53.1000</td>\n",
       "      <td>C123</td>\n",
       "      <td>S</td>\n",
       "    </tr>\n",
       "    <tr>\n",
       "      <th>4</th>\n",
       "      <td>5</td>\n",
       "      <td>0</td>\n",
       "      <td>3</td>\n",
       "      <td>Allen, Mr. William Henry</td>\n",
       "      <td>male</td>\n",
       "      <td>35.0</td>\n",
       "      <td>0</td>\n",
       "      <td>0</td>\n",
       "      <td>373450</td>\n",
       "      <td>8.0500</td>\n",
       "      <td>NaN</td>\n",
       "      <td>S</td>\n",
       "    </tr>\n",
       "  </tbody>\n",
       "</table>\n",
       "</div>"
      ],
      "text/plain": [
       "   PassengerId  Survived  Pclass  \\\n",
       "0            1         0       3   \n",
       "1            2         1       1   \n",
       "2            3         1       3   \n",
       "3            4         1       1   \n",
       "4            5         0       3   \n",
       "\n",
       "                                                Name     Sex   Age  SibSp  \\\n",
       "0                            Braund, Mr. Owen Harris    male  22.0      1   \n",
       "1  Cumings, Mrs. John Bradley (Florence Briggs Th...  female  38.0      1   \n",
       "2                             Heikkinen, Miss. Laina  female  26.0      0   \n",
       "3       Futrelle, Mrs. Jacques Heath (Lily May Peel)  female  35.0      1   \n",
       "4                           Allen, Mr. William Henry    male  35.0      0   \n",
       "\n",
       "   Parch            Ticket     Fare Cabin Embarked  \n",
       "0      0         A/5 21171   7.2500   NaN        S  \n",
       "1      0          PC 17599  71.2833   C85        C  \n",
       "2      0  STON/O2. 3101282   7.9250   NaN        S  \n",
       "3      0            113803  53.1000  C123        S  \n",
       "4      0            373450   8.0500   NaN        S  "
      ]
     },
     "execution_count": 2,
     "metadata": {},
     "output_type": "execute_result"
    }
   ],
   "source": [
    "# Reading from train csv file\n",
    "data = pd.read_csv(\"train.csv\") \n",
    "\n",
    "# Preview the first 5 lines of the loaded data \n",
    "data.head()"
   ]
  },
  {
   "cell_type": "code",
   "execution_count": 3,
   "metadata": {},
   "outputs": [
    {
     "data": {
      "text/html": [
       "<div>\n",
       "<style scoped>\n",
       "    .dataframe tbody tr th:only-of-type {\n",
       "        vertical-align: middle;\n",
       "    }\n",
       "\n",
       "    .dataframe tbody tr th {\n",
       "        vertical-align: top;\n",
       "    }\n",
       "\n",
       "    .dataframe thead th {\n",
       "        text-align: right;\n",
       "    }\n",
       "</style>\n",
       "<table border=\"1\" class=\"dataframe\">\n",
       "  <thead>\n",
       "    <tr style=\"text-align: right;\">\n",
       "      <th></th>\n",
       "      <th>PassengerId</th>\n",
       "      <th>Survived</th>\n",
       "      <th>Pclass</th>\n",
       "      <th>Name</th>\n",
       "      <th>Sex</th>\n",
       "      <th>Age</th>\n",
       "      <th>SibSp</th>\n",
       "      <th>Parch</th>\n",
       "      <th>Ticket</th>\n",
       "      <th>Fare</th>\n",
       "      <th>Cabin</th>\n",
       "      <th>Embarked</th>\n",
       "    </tr>\n",
       "  </thead>\n",
       "  <tbody>\n",
       "    <tr>\n",
       "      <th>21</th>\n",
       "      <td>22</td>\n",
       "      <td>1</td>\n",
       "      <td>2</td>\n",
       "      <td>Beesley, Mr. Lawrence</td>\n",
       "      <td>male</td>\n",
       "      <td>34.0</td>\n",
       "      <td>0</td>\n",
       "      <td>0</td>\n",
       "      <td>248698</td>\n",
       "      <td>13.0000</td>\n",
       "      <td>D56</td>\n",
       "      <td>S</td>\n",
       "    </tr>\n",
       "    <tr>\n",
       "      <th>66</th>\n",
       "      <td>67</td>\n",
       "      <td>1</td>\n",
       "      <td>2</td>\n",
       "      <td>Nye, Mrs. (Elizabeth Ramell)</td>\n",
       "      <td>female</td>\n",
       "      <td>29.0</td>\n",
       "      <td>0</td>\n",
       "      <td>0</td>\n",
       "      <td>C.A. 29395</td>\n",
       "      <td>10.5000</td>\n",
       "      <td>F33</td>\n",
       "      <td>S</td>\n",
       "    </tr>\n",
       "    <tr>\n",
       "      <th>123</th>\n",
       "      <td>124</td>\n",
       "      <td>1</td>\n",
       "      <td>2</td>\n",
       "      <td>Webber, Miss. Susan</td>\n",
       "      <td>female</td>\n",
       "      <td>32.5</td>\n",
       "      <td>0</td>\n",
       "      <td>0</td>\n",
       "      <td>27267</td>\n",
       "      <td>13.0000</td>\n",
       "      <td>E101</td>\n",
       "      <td>S</td>\n",
       "    </tr>\n",
       "    <tr>\n",
       "      <th>148</th>\n",
       "      <td>149</td>\n",
       "      <td>0</td>\n",
       "      <td>2</td>\n",
       "      <td>Navratil, Mr. Michel (\"Louis M Hoffman\")</td>\n",
       "      <td>male</td>\n",
       "      <td>36.5</td>\n",
       "      <td>0</td>\n",
       "      <td>2</td>\n",
       "      <td>230080</td>\n",
       "      <td>26.0000</td>\n",
       "      <td>F2</td>\n",
       "      <td>S</td>\n",
       "    </tr>\n",
       "    <tr>\n",
       "      <th>183</th>\n",
       "      <td>184</td>\n",
       "      <td>1</td>\n",
       "      <td>2</td>\n",
       "      <td>Becker, Master. Richard F</td>\n",
       "      <td>male</td>\n",
       "      <td>1.0</td>\n",
       "      <td>2</td>\n",
       "      <td>1</td>\n",
       "      <td>230136</td>\n",
       "      <td>39.0000</td>\n",
       "      <td>F4</td>\n",
       "      <td>S</td>\n",
       "    </tr>\n",
       "    <tr>\n",
       "      <th>193</th>\n",
       "      <td>194</td>\n",
       "      <td>1</td>\n",
       "      <td>2</td>\n",
       "      <td>Navratil, Master. Michel M</td>\n",
       "      <td>male</td>\n",
       "      <td>3.0</td>\n",
       "      <td>1</td>\n",
       "      <td>1</td>\n",
       "      <td>230080</td>\n",
       "      <td>26.0000</td>\n",
       "      <td>F2</td>\n",
       "      <td>S</td>\n",
       "    </tr>\n",
       "    <tr>\n",
       "      <th>292</th>\n",
       "      <td>293</td>\n",
       "      <td>0</td>\n",
       "      <td>2</td>\n",
       "      <td>Levy, Mr. Rene Jacques</td>\n",
       "      <td>male</td>\n",
       "      <td>36.0</td>\n",
       "      <td>0</td>\n",
       "      <td>0</td>\n",
       "      <td>SC/Paris 2163</td>\n",
       "      <td>12.8750</td>\n",
       "      <td>D</td>\n",
       "      <td>C</td>\n",
       "    </tr>\n",
       "    <tr>\n",
       "      <th>303</th>\n",
       "      <td>304</td>\n",
       "      <td>1</td>\n",
       "      <td>2</td>\n",
       "      <td>Keane, Miss. Nora A</td>\n",
       "      <td>female</td>\n",
       "      <td>NaN</td>\n",
       "      <td>0</td>\n",
       "      <td>0</td>\n",
       "      <td>226593</td>\n",
       "      <td>12.3500</td>\n",
       "      <td>E101</td>\n",
       "      <td>Q</td>\n",
       "    </tr>\n",
       "    <tr>\n",
       "      <th>327</th>\n",
       "      <td>328</td>\n",
       "      <td>1</td>\n",
       "      <td>2</td>\n",
       "      <td>Ball, Mrs. (Ada E Hall)</td>\n",
       "      <td>female</td>\n",
       "      <td>36.0</td>\n",
       "      <td>0</td>\n",
       "      <td>0</td>\n",
       "      <td>28551</td>\n",
       "      <td>13.0000</td>\n",
       "      <td>D</td>\n",
       "      <td>S</td>\n",
       "    </tr>\n",
       "    <tr>\n",
       "      <th>340</th>\n",
       "      <td>341</td>\n",
       "      <td>1</td>\n",
       "      <td>2</td>\n",
       "      <td>Navratil, Master. Edmond Roger</td>\n",
       "      <td>male</td>\n",
       "      <td>2.0</td>\n",
       "      <td>1</td>\n",
       "      <td>1</td>\n",
       "      <td>230080</td>\n",
       "      <td>26.0000</td>\n",
       "      <td>F2</td>\n",
       "      <td>S</td>\n",
       "    </tr>\n",
       "    <tr>\n",
       "      <th>345</th>\n",
       "      <td>346</td>\n",
       "      <td>1</td>\n",
       "      <td>2</td>\n",
       "      <td>Brown, Miss. Amelia \"Mildred\"</td>\n",
       "      <td>female</td>\n",
       "      <td>24.0</td>\n",
       "      <td>0</td>\n",
       "      <td>0</td>\n",
       "      <td>248733</td>\n",
       "      <td>13.0000</td>\n",
       "      <td>F33</td>\n",
       "      <td>S</td>\n",
       "    </tr>\n",
       "    <tr>\n",
       "      <th>473</th>\n",
       "      <td>474</td>\n",
       "      <td>1</td>\n",
       "      <td>2</td>\n",
       "      <td>Jerwan, Mrs. Amin S (Marie Marthe Thuillard)</td>\n",
       "      <td>female</td>\n",
       "      <td>23.0</td>\n",
       "      <td>0</td>\n",
       "      <td>0</td>\n",
       "      <td>SC/AH Basle 541</td>\n",
       "      <td>13.7917</td>\n",
       "      <td>D</td>\n",
       "      <td>C</td>\n",
       "    </tr>\n",
       "    <tr>\n",
       "      <th>516</th>\n",
       "      <td>517</td>\n",
       "      <td>1</td>\n",
       "      <td>2</td>\n",
       "      <td>Lemore, Mrs. (Amelia Milley)</td>\n",
       "      <td>female</td>\n",
       "      <td>34.0</td>\n",
       "      <td>0</td>\n",
       "      <td>0</td>\n",
       "      <td>C.A. 34260</td>\n",
       "      <td>10.5000</td>\n",
       "      <td>F33</td>\n",
       "      <td>S</td>\n",
       "    </tr>\n",
       "    <tr>\n",
       "      <th>618</th>\n",
       "      <td>619</td>\n",
       "      <td>1</td>\n",
       "      <td>2</td>\n",
       "      <td>Becker, Miss. Marion Louise</td>\n",
       "      <td>female</td>\n",
       "      <td>4.0</td>\n",
       "      <td>2</td>\n",
       "      <td>1</td>\n",
       "      <td>230136</td>\n",
       "      <td>39.0000</td>\n",
       "      <td>F4</td>\n",
       "      <td>S</td>\n",
       "    </tr>\n",
       "    <tr>\n",
       "      <th>717</th>\n",
       "      <td>718</td>\n",
       "      <td>1</td>\n",
       "      <td>2</td>\n",
       "      <td>Troutt, Miss. Edwina Celia \"Winnie\"</td>\n",
       "      <td>female</td>\n",
       "      <td>27.0</td>\n",
       "      <td>0</td>\n",
       "      <td>0</td>\n",
       "      <td>34218</td>\n",
       "      <td>10.5000</td>\n",
       "      <td>E101</td>\n",
       "      <td>S</td>\n",
       "    </tr>\n",
       "    <tr>\n",
       "      <th>772</th>\n",
       "      <td>773</td>\n",
       "      <td>0</td>\n",
       "      <td>2</td>\n",
       "      <td>Mack, Mrs. (Mary)</td>\n",
       "      <td>female</td>\n",
       "      <td>57.0</td>\n",
       "      <td>0</td>\n",
       "      <td>0</td>\n",
       "      <td>S.O./P.P. 3</td>\n",
       "      <td>10.5000</td>\n",
       "      <td>E77</td>\n",
       "      <td>S</td>\n",
       "    </tr>\n",
       "  </tbody>\n",
       "</table>\n",
       "</div>"
      ],
      "text/plain": [
       "     PassengerId  Survived  Pclass  \\\n",
       "21            22         1       2   \n",
       "66            67         1       2   \n",
       "123          124         1       2   \n",
       "148          149         0       2   \n",
       "183          184         1       2   \n",
       "193          194         1       2   \n",
       "292          293         0       2   \n",
       "303          304         1       2   \n",
       "327          328         1       2   \n",
       "340          341         1       2   \n",
       "345          346         1       2   \n",
       "473          474         1       2   \n",
       "516          517         1       2   \n",
       "618          619         1       2   \n",
       "717          718         1       2   \n",
       "772          773         0       2   \n",
       "\n",
       "                                             Name     Sex   Age  SibSp  Parch  \\\n",
       "21                          Beesley, Mr. Lawrence    male  34.0      0      0   \n",
       "66                   Nye, Mrs. (Elizabeth Ramell)  female  29.0      0      0   \n",
       "123                           Webber, Miss. Susan  female  32.5      0      0   \n",
       "148      Navratil, Mr. Michel (\"Louis M Hoffman\")    male  36.5      0      2   \n",
       "183                     Becker, Master. Richard F    male   1.0      2      1   \n",
       "193                    Navratil, Master. Michel M    male   3.0      1      1   \n",
       "292                        Levy, Mr. Rene Jacques    male  36.0      0      0   \n",
       "303                           Keane, Miss. Nora A  female   NaN      0      0   \n",
       "327                       Ball, Mrs. (Ada E Hall)  female  36.0      0      0   \n",
       "340                Navratil, Master. Edmond Roger    male   2.0      1      1   \n",
       "345                 Brown, Miss. Amelia \"Mildred\"  female  24.0      0      0   \n",
       "473  Jerwan, Mrs. Amin S (Marie Marthe Thuillard)  female  23.0      0      0   \n",
       "516                  Lemore, Mrs. (Amelia Milley)  female  34.0      0      0   \n",
       "618                   Becker, Miss. Marion Louise  female   4.0      2      1   \n",
       "717           Troutt, Miss. Edwina Celia \"Winnie\"  female  27.0      0      0   \n",
       "772                             Mack, Mrs. (Mary)  female  57.0      0      0   \n",
       "\n",
       "              Ticket     Fare Cabin Embarked  \n",
       "21            248698  13.0000   D56        S  \n",
       "66        C.A. 29395  10.5000   F33        S  \n",
       "123            27267  13.0000  E101        S  \n",
       "148           230080  26.0000    F2        S  \n",
       "183           230136  39.0000    F4        S  \n",
       "193           230080  26.0000    F2        S  \n",
       "292    SC/Paris 2163  12.8750     D        C  \n",
       "303           226593  12.3500  E101        Q  \n",
       "327            28551  13.0000     D        S  \n",
       "340           230080  26.0000    F2        S  \n",
       "345           248733  13.0000   F33        S  \n",
       "473  SC/AH Basle 541  13.7917     D        C  \n",
       "516       C.A. 34260  10.5000   F33        S  \n",
       "618           230136  39.0000    F4        S  \n",
       "717            34218  10.5000  E101        S  \n",
       "772      S.O./P.P. 3  10.5000   E77        S  "
      ]
     },
     "execution_count": 3,
     "metadata": {},
     "output_type": "execute_result"
    }
   ],
   "source": [
    "data[(data[\"Cabin\"].notnull()) & (data[\"Pclass\"]==2)]"
   ]
  },
  {
   "cell_type": "code",
   "execution_count": 4,
   "metadata": {},
   "outputs": [
    {
     "data": {
      "text/html": [
       "<div>\n",
       "<style scoped>\n",
       "    .dataframe tbody tr th:only-of-type {\n",
       "        vertical-align: middle;\n",
       "    }\n",
       "\n",
       "    .dataframe tbody tr th {\n",
       "        vertical-align: top;\n",
       "    }\n",
       "\n",
       "    .dataframe thead th {\n",
       "        text-align: right;\n",
       "    }\n",
       "</style>\n",
       "<table border=\"1\" class=\"dataframe\">\n",
       "  <thead>\n",
       "    <tr style=\"text-align: right;\">\n",
       "      <th></th>\n",
       "      <th>PassengerId</th>\n",
       "      <th>Survived</th>\n",
       "      <th>Pclass</th>\n",
       "      <th>Age</th>\n",
       "      <th>SibSp</th>\n",
       "      <th>Parch</th>\n",
       "      <th>Fare</th>\n",
       "    </tr>\n",
       "  </thead>\n",
       "  <tbody>\n",
       "    <tr>\n",
       "      <th>count</th>\n",
       "      <td>891.000000</td>\n",
       "      <td>891.000000</td>\n",
       "      <td>891.000000</td>\n",
       "      <td>714.000000</td>\n",
       "      <td>891.000000</td>\n",
       "      <td>891.000000</td>\n",
       "      <td>891.000000</td>\n",
       "    </tr>\n",
       "    <tr>\n",
       "      <th>mean</th>\n",
       "      <td>446.000000</td>\n",
       "      <td>0.383838</td>\n",
       "      <td>2.308642</td>\n",
       "      <td>29.699118</td>\n",
       "      <td>0.523008</td>\n",
       "      <td>0.381594</td>\n",
       "      <td>32.204208</td>\n",
       "    </tr>\n",
       "    <tr>\n",
       "      <th>std</th>\n",
       "      <td>257.353842</td>\n",
       "      <td>0.486592</td>\n",
       "      <td>0.836071</td>\n",
       "      <td>14.526497</td>\n",
       "      <td>1.102743</td>\n",
       "      <td>0.806057</td>\n",
       "      <td>49.693429</td>\n",
       "    </tr>\n",
       "    <tr>\n",
       "      <th>min</th>\n",
       "      <td>1.000000</td>\n",
       "      <td>0.000000</td>\n",
       "      <td>1.000000</td>\n",
       "      <td>0.420000</td>\n",
       "      <td>0.000000</td>\n",
       "      <td>0.000000</td>\n",
       "      <td>0.000000</td>\n",
       "    </tr>\n",
       "    <tr>\n",
       "      <th>25%</th>\n",
       "      <td>223.500000</td>\n",
       "      <td>0.000000</td>\n",
       "      <td>2.000000</td>\n",
       "      <td>20.125000</td>\n",
       "      <td>0.000000</td>\n",
       "      <td>0.000000</td>\n",
       "      <td>7.910400</td>\n",
       "    </tr>\n",
       "    <tr>\n",
       "      <th>50%</th>\n",
       "      <td>446.000000</td>\n",
       "      <td>0.000000</td>\n",
       "      <td>3.000000</td>\n",
       "      <td>28.000000</td>\n",
       "      <td>0.000000</td>\n",
       "      <td>0.000000</td>\n",
       "      <td>14.454200</td>\n",
       "    </tr>\n",
       "    <tr>\n",
       "      <th>75%</th>\n",
       "      <td>668.500000</td>\n",
       "      <td>1.000000</td>\n",
       "      <td>3.000000</td>\n",
       "      <td>38.000000</td>\n",
       "      <td>1.000000</td>\n",
       "      <td>0.000000</td>\n",
       "      <td>31.000000</td>\n",
       "    </tr>\n",
       "    <tr>\n",
       "      <th>max</th>\n",
       "      <td>891.000000</td>\n",
       "      <td>1.000000</td>\n",
       "      <td>3.000000</td>\n",
       "      <td>80.000000</td>\n",
       "      <td>8.000000</td>\n",
       "      <td>6.000000</td>\n",
       "      <td>512.329200</td>\n",
       "    </tr>\n",
       "  </tbody>\n",
       "</table>\n",
       "</div>"
      ],
      "text/plain": [
       "       PassengerId    Survived      Pclass         Age       SibSp  \\\n",
       "count   891.000000  891.000000  891.000000  714.000000  891.000000   \n",
       "mean    446.000000    0.383838    2.308642   29.699118    0.523008   \n",
       "std     257.353842    0.486592    0.836071   14.526497    1.102743   \n",
       "min       1.000000    0.000000    1.000000    0.420000    0.000000   \n",
       "25%     223.500000    0.000000    2.000000   20.125000    0.000000   \n",
       "50%     446.000000    0.000000    3.000000   28.000000    0.000000   \n",
       "75%     668.500000    1.000000    3.000000   38.000000    1.000000   \n",
       "max     891.000000    1.000000    3.000000   80.000000    8.000000   \n",
       "\n",
       "            Parch        Fare  \n",
       "count  891.000000  891.000000  \n",
       "mean     0.381594   32.204208  \n",
       "std      0.806057   49.693429  \n",
       "min      0.000000    0.000000  \n",
       "25%      0.000000    7.910400  \n",
       "50%      0.000000   14.454200  \n",
       "75%      0.000000   31.000000  \n",
       "max      6.000000  512.329200  "
      ]
     },
     "execution_count": 4,
     "metadata": {},
     "output_type": "execute_result"
    }
   ],
   "source": [
    "# Descriptive statistics\n",
    "data.describe()"
   ]
  },
  {
   "cell_type": "code",
   "execution_count": 5,
   "metadata": {},
   "outputs": [
    {
     "name": "stdout",
     "output_type": "stream",
     "text": [
      "(891, 12)\n"
     ]
    }
   ],
   "source": [
    "# Count of Observations and Features\n",
    "print(data.shape)"
   ]
  },
  {
   "cell_type": "code",
   "execution_count": 6,
   "metadata": {},
   "outputs": [
    {
     "data": {
      "text/plain": [
       "array([1, 0, 3, 4, 2, 5, 8])"
      ]
     },
     "metadata": {},
     "output_type": "display_data"
    },
    {
     "data": {
      "text/plain": [
       "array([0, 1, 2, 5, 3, 4, 6])"
      ]
     },
     "metadata": {},
     "output_type": "display_data"
    }
   ],
   "source": [
    "# Check for Unique Values of SibSp\n",
    "display(data['SibSp'].unique())\n",
    "# Check for Unique Values of Parch\n",
    "display(data['Parch'].unique())"
   ]
  },
  {
   "cell_type": "code",
   "execution_count": 7,
   "metadata": {},
   "outputs": [
    {
     "data": {
      "text/plain": [
       "Pclass\n",
       "1    216\n",
       "2    184\n",
       "3    491\n",
       "dtype: int64"
      ]
     },
     "metadata": {},
     "output_type": "display_data"
    },
    {
     "data": {
      "text/plain": [
       "Sex\n",
       "female    314\n",
       "male      577\n",
       "dtype: int64"
      ]
     },
     "metadata": {},
     "output_type": "display_data"
    },
    {
     "data": {
      "text/plain": [
       "Cabin\n",
       "A10    1\n",
       "A14    1\n",
       "A16    1\n",
       "A19    1\n",
       "A20    1\n",
       "      ..\n",
       "F33    3\n",
       "F38    1\n",
       "F4     2\n",
       "G6     4\n",
       "T      1\n",
       "Length: 147, dtype: int64"
      ]
     },
     "metadata": {},
     "output_type": "display_data"
    },
    {
     "data": {
      "text/plain": [
       "Embarked\n",
       "C    168\n",
       "Q     77\n",
       "S    644\n",
       "dtype: int64"
      ]
     },
     "metadata": {},
     "output_type": "display_data"
    }
   ],
   "source": [
    "# Checking Class Imbalances\n",
    "display(data.groupby('Pclass').size())\n",
    "display(data.groupby('Sex').size())\n",
    "display(data.groupby('Cabin').size())\n",
    "display(data.groupby('Embarked').size())"
   ]
  },
  {
   "cell_type": "code",
   "execution_count": 8,
   "metadata": {},
   "outputs": [
    {
     "data": {
      "text/plain": [
       "681"
      ]
     },
     "execution_count": 8,
     "metadata": {},
     "output_type": "execute_result"
    }
   ],
   "source": [
    "# Check Number of Uniqueness of Ticket\n",
    "data[\"Ticket\"].nunique()"
   ]
  },
  {
   "cell_type": "code",
   "execution_count": 9,
   "metadata": {},
   "outputs": [
    {
     "data": {
      "text/plain": [
       "(array([  0,   2,   4,   5,   5,   7,   8,   9,  12,  13,  14,  15,  16,\n",
       "         17,  17,  18,  19,  19,  20,  22,  24,  25,  26,  26,  28,  28,\n",
       "         29,  29,  30,  31,  32,  32,  33,  34,  35,  36,  36,  37,  38,\n",
       "         39,  40,  41,  42,  42,  43,  44,  45,  45,  46,  46,  47,  47,\n",
       "         48,  48,  49,  50,  51,  53,  55,  56,  57,  58,  59,  60,  61,\n",
       "         63,  64,  64,  65,  65,  67,  68,  69,  70,  71,  72,  73,  74,\n",
       "         76,  76,  77,  77,  78,  79,  80,  81,  82,  82,  83,  84,  85,\n",
       "         86,  87,  87,  89,  90,  91,  93,  94,  95,  95,  98,  99, 100,\n",
       "        101, 101, 103, 104, 105, 106, 107, 107, 108, 109, 109, 111, 112,\n",
       "        113, 114, 115, 116, 117, 119, 120, 121, 121, 122, 125, 126, 126,\n",
       "        127, 128, 129, 130, 131, 132, 133, 134, 135, 138, 140, 140, 141,\n",
       "        142, 143, 144, 145, 146, 147, 149, 150, 152, 153, 154, 154, 155,\n",
       "        156, 157, 158, 158, 159, 159, 160, 161, 162, 163, 164, 165, 166,\n",
       "        167, 168, 168, 169, 171, 172, 173, 175, 176, 176, 178, 179, 180,\n",
       "        180, 181, 181, 182, 184, 185, 186, 186, 187, 188, 189, 190, 191,\n",
       "        192, 196, 196, 197, 198, 198, 199, 200, 201, 201, 202, 203, 204,\n",
       "        206, 207, 208, 210, 211, 212, 213, 214, 214, 216, 217, 219, 220,\n",
       "        221, 222, 223, 223, 225, 226, 227, 228, 229, 229, 231, 232, 233,\n",
       "        234, 235, 235, 236, 237, 238, 239, 240, 240, 241, 241, 242, 243,\n",
       "        244, 246, 247, 249, 250, 250, 253, 254, 255, 256, 256, 258, 259,\n",
       "        260, 260, 261, 264, 264, 265, 266, 267, 270, 270, 271, 272, 274,\n",
       "        274, 276, 277, 277, 278, 279, 280, 281, 282, 283, 284, 285, 286,\n",
       "        287, 288, 289, 290, 293, 294, 295, 295, 296, 298, 300, 300, 301,\n",
       "        301, 302, 303, 304, 304, 306, 306, 308, 312, 313, 314, 315, 316,\n",
       "        317, 320, 321, 322, 323, 324, 324, 326, 328, 330, 330, 333, 334,\n",
       "        334, 335, 335, 338, 342, 343, 344, 346, 347, 347, 348, 349, 350,\n",
       "        351, 352, 353, 354, 354, 355, 357, 358, 358, 359, 359, 360, 361,\n",
       "        362, 363, 364, 364, 365, 367, 367, 368, 368, 371, 372, 373, 374,\n",
       "        375, 375, 376, 378, 379, 380, 381, 382, 383, 384, 384, 385, 386,\n",
       "        387, 388, 388, 389, 391, 392, 395, 396, 397, 398, 399, 400, 401,\n",
       "        402, 403, 404, 405, 406, 407, 408, 409, 409, 410, 410, 411, 411,\n",
       "        413, 413, 414, 415, 415, 416, 417, 418, 419, 420, 420, 421, 422,\n",
       "        423, 424, 425, 425, 426, 427, 428, 428, 431, 431, 432, 433, 436,\n",
       "        437, 439, 440, 441, 442, 443, 444, 444, 446, 447, 448, 450, 451,\n",
       "        451, 454, 454, 455, 457, 458, 459, 459, 461, 463, 464, 464, 465,\n",
       "        466, 466, 467, 468, 468, 469, 470, 470, 471, 472, 474, 475, 476,\n",
       "        477, 478, 479, 480, 481, 481, 482, 483, 485, 485, 488, 489, 490,\n",
       "        490, 491, 493, 494, 495, 495, 497, 497, 499, 500, 501, 502, 502,\n",
       "        503, 506, 507, 507, 508, 509, 510, 511, 511, 513, 514, 517, 517,\n",
       "        518, 519, 521, 522, 522, 524, 524, 525, 526, 527, 528, 529, 530,\n",
       "        531, 531, 532, 533, 533, 534, 535, 537, 538, 538, 541, 542, 543,\n",
       "        545, 546, 547, 547, 548, 549, 551, 552, 552, 553, 554, 555, 557,\n",
       "        557, 559, 560, 560, 561, 562, 563, 563, 564, 564, 565, 566, 567,\n",
       "        568, 568, 569, 570, 573, 573, 574, 575, 576, 578, 578, 579, 580,\n",
       "        582, 584, 584, 586, 588, 589, 589, 590, 592, 593, 593, 594, 595,\n",
       "        596, 596, 597, 598, 598, 600, 601, 601, 602, 602, 603, 604, 605,\n",
       "        606, 607, 608, 610, 611, 611, 612, 612, 613, 613, 614, 615, 616,\n",
       "        617, 619, 620, 622, 623, 624, 626, 628, 629, 629, 631, 633, 633,\n",
       "        634, 635, 636, 637, 638, 639, 639, 640, 642, 643, 643, 644, 646,\n",
       "        648, 648, 649, 650, 650, 651, 652, 653, 653, 654, 655, 656, 656,\n",
       "        657, 658, 660, 661, 663, 664, 665, 666, 667, 667, 668, 669, 670,\n",
       "        672, 673, 674, 674, 675, 676, 677, 678, 680, 680, 682, 683, 684,\n",
       "        685, 686, 687, 688, 691, 692, 692, 693, 694, 695, 696, 697, 697,\n",
       "        702, 703, 704, 705, 706, 708, 709, 709, 711, 713, 714, 718, 718,\n",
       "        719, 720, 721, 722, 723, 725, 726, 727, 727, 728, 729, 731, 732,\n",
       "        732, 733, 734, 735, 736, 738, 738, 739, 739, 740, 743, 744, 746,\n",
       "        747, 749, 750, 752, 753, 754, 755, 756, 757, 758, 760, 760, 761,\n",
       "        762, 764, 766, 766, 767, 768, 768, 769, 770, 771, 773, 773, 774,\n",
       "        775, 776, 777, 778, 778, 780, 783, 783, 784, 785, 786, 787, 788,\n",
       "        790, 790, 791, 792, 792, 793, 793, 794, 795, 797, 798, 799, 800,\n",
       "        801, 803, 804, 805, 807, 808, 810, 811, 812, 813, 814, 815, 816,\n",
       "        817, 818, 819, 821, 822, 824, 825, 825, 826, 826, 827, 828, 828,\n",
       "        829, 830, 831, 832, 832, 833, 834, 836, 837, 837, 838, 839, 840,\n",
       "        841, 842, 843, 844, 845, 846, 846, 847, 848, 849, 850, 851, 852,\n",
       "        854, 855, 856, 858, 859, 859, 860, 861, 863, 863, 864, 865, 866,\n",
       "        868, 868, 869, 870, 873, 874, 875, 876, 877, 878, 878, 880, 881,\n",
       "        882, 883, 884, 885, 886, 888, 888, 890]),\n",
       " array([10, 10, 10,  5, 10, 10, 10, 10, 10, 10, 10, 10, 10,  5, 10, 10,  5,\n",
       "        10, 10, 10, 10, 10,  5, 10,  5, 10,  5, 10, 10,  5,  5, 10, 10, 10,\n",
       "        10,  5, 10, 10, 10, 10, 10, 10,  5, 10, 10, 10,  5, 10,  5, 10,  5,\n",
       "        10,  5, 10, 10, 10, 10, 10,  5, 10, 10, 10, 10, 10, 11, 10,  5, 10,\n",
       "         5, 10, 10, 10, 10, 10, 10, 10, 10, 10,  5, 10,  5, 10, 10, 10, 10,\n",
       "        10,  5, 10, 10, 10, 10, 10,  5, 10, 10, 10, 10, 10, 10,  5, 10, 10,\n",
       "        10, 10,  5, 10, 10, 10, 10, 10,  5, 10, 10,  5, 10, 10, 10, 10, 10,\n",
       "        10, 10, 10, 10, 10,  5, 10, 10, 10,  5, 10, 10,  5, 10, 10, 10, 10,\n",
       "        10, 10, 10, 10,  5, 10, 10, 10, 10, 10, 10, 10, 10, 10, 10, 10, 10,\n",
       "         5, 10, 10, 10, 10,  5, 10,  5, 10, 10, 10, 10, 10, 10, 10,  5, 10,\n",
       "         5, 10, 10, 10, 10, 10, 10,  5, 10, 10, 10,  5, 10,  5, 10, 10, 10,\n",
       "         5,  5, 10, 10, 10, 10, 10, 10, 10,  5, 10, 10,  5, 10, 10, 10,  5,\n",
       "        10, 10, 10, 10, 10, 10, 10, 10, 10, 10, 10,  5, 10, 10, 10, 10, 10,\n",
       "        10, 10,  5, 10, 10, 10, 10, 10,  5, 10, 10, 10, 10, 10,  5, 10, 10,\n",
       "        10, 10, 10,  5, 10,  5, 10, 10, 10, 10, 10, 10, 10,  5, 10, 10, 10,\n",
       "        10,  5, 10, 10, 10,  5, 10, 10,  5, 10, 10, 10, 10,  5, 10, 10, 10,\n",
       "         5, 10, 10,  5, 10, 10, 10, 10, 10, 10, 10,  5, 10, 10, 10, 10, 10,\n",
       "        10, 10, 10,  5, 10, 10,  5,  5, 10,  5, 10, 10,  5,  5, 10,  5, 10,\n",
       "        10, 10, 10, 10, 10, 10, 10, 10, 10, 10, 10,  5, 10, 10, 10,  5, 10,\n",
       "        10,  5, 10,  5, 10, 10, 10, 10, 10, 10,  5, 10, 10, 10, 10,  5, 10,\n",
       "        10,  5, 10, 10, 10,  5, 10,  5, 10, 10, 10, 10, 10,  5, 10, 10,  5,\n",
       "        10,  5, 10, 10, 10, 10, 10,  5, 10, 10, 10, 10, 10, 10, 10, 10,  5,\n",
       "        10, 10, 10, 10,  5, 10, 10, 10, 10, 10, 10, 10, 10, 10, 10, 10, 10,\n",
       "        10, 10, 10, 10, 10, 10,  5, 10,  5, 10,  5, 10,  5, 10, 10,  5, 10,\n",
       "        10, 10, 10, 10,  5, 10, 10, 10, 10, 10,  5, 10, 10, 10,  5, 10,  5,\n",
       "        10, 10, 10, 10, 10, 10, 10, 10, 10, 10,  5, 10, 10, 10, 10, 10,  5,\n",
       "        10,  5, 10, 10,  5, 10,  5, 10, 10, 10,  5, 10, 10,  5, 10, 10,  5,\n",
       "        10, 10,  5, 10, 10, 10, 10,  5, 10, 10, 10, 10, 10,  5, 10, 10, 10,\n",
       "         5, 10, 10, 10,  5, 10, 10, 10, 10,  5, 10,  5, 10, 10, 10, 10,  5,\n",
       "        10, 10, 10,  5, 10, 10, 10, 10,  5, 10, 10, 10,  5, 10, 10, 10, 10,\n",
       "         5, 10,  5, 10, 10, 10,  5, 10, 10, 10,  5, 10, 10,  5, 10, 10, 10,\n",
       "        10,  5, 10, 10, 10, 10, 10, 10,  5, 10, 10, 10, 10,  5, 10, 10, 10,\n",
       "        10,  5, 10, 10,  5, 10, 10, 10,  5, 10,  5, 10, 10, 10, 10,  5, 10,\n",
       "        10, 10,  5, 10, 10, 10, 10,  5, 10, 10, 10, 10,  5, 10, 10, 10,  5,\n",
       "        10, 10, 10,  5, 10, 10, 10,  5, 10, 10,  5, 10, 10,  5, 10,  5, 10,\n",
       "        10, 10, 10, 10, 10, 10, 10,  5, 10,  5, 10,  5, 10, 10, 10, 10, 10,\n",
       "        10, 10, 10, 10, 10, 10, 10,  5, 10, 10,  5, 10, 10, 10, 10, 10, 10,\n",
       "         5, 10, 10, 10,  5, 10, 10, 10,  5, 10, 10,  5, 10, 10, 10,  5, 10,\n",
       "        10, 10,  5, 10, 10, 10, 10, 10, 10, 10, 10, 10,  5, 10, 10,  5, 10,\n",
       "        10, 10,  5, 10, 10, 10, 10, 10,  5, 10, 10, 10, 10, 10, 10, 10, 10,\n",
       "        10,  5, 10, 10, 10, 10, 10,  5, 10, 10, 10, 10, 10, 10, 10,  5, 10,\n",
       "         5, 10, 10,  5, 10, 10, 10, 10, 10, 10, 10, 10,  5, 10, 10, 10, 10,\n",
       "         5, 10, 10, 10, 10, 10,  5, 10,  5, 10,  5, 10, 10, 10, 10, 10, 10,\n",
       "        10, 10, 10, 10, 10, 10, 10,  5, 10, 10, 10, 10,  5, 10, 10,  5, 10,\n",
       "        10, 10, 10,  5, 10, 10, 10,  5, 10,  5, 10, 10,  5, 10, 10, 10, 10,\n",
       "        10, 10,  5, 10, 10,  5, 10,  5, 10, 10, 10, 10, 10, 10, 10, 10, 10,\n",
       "        10, 10, 10, 10, 10, 10, 10, 10, 10,  5, 10, 10, 10, 10, 10, 10, 10,\n",
       "         5, 10,  5, 10, 10,  5, 10, 11, 10, 10,  5, 10, 10, 10, 10,  5, 10,\n",
       "        10,  5, 10, 10, 10, 10, 10, 10,  5, 10, 10, 10,  5, 10, 10, 10, 10,\n",
       "        10, 10, 10,  5, 10, 10, 10,  5, 10, 10, 10, 10,  5, 10, 10, 10, 10,\n",
       "        10, 10, 10, 10,  5, 10, 10, 10, 10, 10, 10, 10, 10,  5, 10, 10]))"
      ]
     },
     "execution_count": 9,
     "metadata": {},
     "output_type": "execute_result"
    }
   ],
   "source": [
    "# Check for NaN in Dataframe\n",
    "np.where(pd.isnull(data))"
   ]
  },
  {
   "cell_type": "code",
   "execution_count": 10,
   "metadata": {},
   "outputs": [
    {
     "data": {
      "text/html": [
       "<div>\n",
       "<style scoped>\n",
       "    .dataframe tbody tr th:only-of-type {\n",
       "        vertical-align: middle;\n",
       "    }\n",
       "\n",
       "    .dataframe tbody tr th {\n",
       "        vertical-align: top;\n",
       "    }\n",
       "\n",
       "    .dataframe thead th {\n",
       "        text-align: right;\n",
       "    }\n",
       "</style>\n",
       "<table border=\"1\" class=\"dataframe\">\n",
       "  <thead>\n",
       "    <tr style=\"text-align: right;\">\n",
       "      <th></th>\n",
       "      <th>PassengerId</th>\n",
       "      <th>Survived</th>\n",
       "      <th>Pclass</th>\n",
       "      <th>Name</th>\n",
       "      <th>Sex</th>\n",
       "      <th>Age</th>\n",
       "      <th>SibSp</th>\n",
       "      <th>Parch</th>\n",
       "      <th>Ticket</th>\n",
       "      <th>Fare</th>\n",
       "      <th>Cabin</th>\n",
       "      <th>Embarked</th>\n",
       "    </tr>\n",
       "  </thead>\n",
       "  <tbody>\n",
       "    <tr>\n",
       "      <th>0</th>\n",
       "      <td>False</td>\n",
       "      <td>False</td>\n",
       "      <td>False</td>\n",
       "      <td>False</td>\n",
       "      <td>False</td>\n",
       "      <td>False</td>\n",
       "      <td>False</td>\n",
       "      <td>False</td>\n",
       "      <td>False</td>\n",
       "      <td>False</td>\n",
       "      <td>True</td>\n",
       "      <td>False</td>\n",
       "    </tr>\n",
       "    <tr>\n",
       "      <th>1</th>\n",
       "      <td>False</td>\n",
       "      <td>False</td>\n",
       "      <td>False</td>\n",
       "      <td>False</td>\n",
       "      <td>False</td>\n",
       "      <td>False</td>\n",
       "      <td>False</td>\n",
       "      <td>False</td>\n",
       "      <td>False</td>\n",
       "      <td>False</td>\n",
       "      <td>False</td>\n",
       "      <td>False</td>\n",
       "    </tr>\n",
       "    <tr>\n",
       "      <th>2</th>\n",
       "      <td>False</td>\n",
       "      <td>False</td>\n",
       "      <td>False</td>\n",
       "      <td>False</td>\n",
       "      <td>False</td>\n",
       "      <td>False</td>\n",
       "      <td>False</td>\n",
       "      <td>False</td>\n",
       "      <td>False</td>\n",
       "      <td>False</td>\n",
       "      <td>True</td>\n",
       "      <td>False</td>\n",
       "    </tr>\n",
       "    <tr>\n",
       "      <th>3</th>\n",
       "      <td>False</td>\n",
       "      <td>False</td>\n",
       "      <td>False</td>\n",
       "      <td>False</td>\n",
       "      <td>False</td>\n",
       "      <td>False</td>\n",
       "      <td>False</td>\n",
       "      <td>False</td>\n",
       "      <td>False</td>\n",
       "      <td>False</td>\n",
       "      <td>False</td>\n",
       "      <td>False</td>\n",
       "    </tr>\n",
       "    <tr>\n",
       "      <th>4</th>\n",
       "      <td>False</td>\n",
       "      <td>False</td>\n",
       "      <td>False</td>\n",
       "      <td>False</td>\n",
       "      <td>False</td>\n",
       "      <td>False</td>\n",
       "      <td>False</td>\n",
       "      <td>False</td>\n",
       "      <td>False</td>\n",
       "      <td>False</td>\n",
       "      <td>True</td>\n",
       "      <td>False</td>\n",
       "    </tr>\n",
       "    <tr>\n",
       "      <th>...</th>\n",
       "      <td>...</td>\n",
       "      <td>...</td>\n",
       "      <td>...</td>\n",
       "      <td>...</td>\n",
       "      <td>...</td>\n",
       "      <td>...</td>\n",
       "      <td>...</td>\n",
       "      <td>...</td>\n",
       "      <td>...</td>\n",
       "      <td>...</td>\n",
       "      <td>...</td>\n",
       "      <td>...</td>\n",
       "    </tr>\n",
       "    <tr>\n",
       "      <th>886</th>\n",
       "      <td>False</td>\n",
       "      <td>False</td>\n",
       "      <td>False</td>\n",
       "      <td>False</td>\n",
       "      <td>False</td>\n",
       "      <td>False</td>\n",
       "      <td>False</td>\n",
       "      <td>False</td>\n",
       "      <td>False</td>\n",
       "      <td>False</td>\n",
       "      <td>True</td>\n",
       "      <td>False</td>\n",
       "    </tr>\n",
       "    <tr>\n",
       "      <th>887</th>\n",
       "      <td>False</td>\n",
       "      <td>False</td>\n",
       "      <td>False</td>\n",
       "      <td>False</td>\n",
       "      <td>False</td>\n",
       "      <td>False</td>\n",
       "      <td>False</td>\n",
       "      <td>False</td>\n",
       "      <td>False</td>\n",
       "      <td>False</td>\n",
       "      <td>False</td>\n",
       "      <td>False</td>\n",
       "    </tr>\n",
       "    <tr>\n",
       "      <th>888</th>\n",
       "      <td>False</td>\n",
       "      <td>False</td>\n",
       "      <td>False</td>\n",
       "      <td>False</td>\n",
       "      <td>False</td>\n",
       "      <td>True</td>\n",
       "      <td>False</td>\n",
       "      <td>False</td>\n",
       "      <td>False</td>\n",
       "      <td>False</td>\n",
       "      <td>True</td>\n",
       "      <td>False</td>\n",
       "    </tr>\n",
       "    <tr>\n",
       "      <th>889</th>\n",
       "      <td>False</td>\n",
       "      <td>False</td>\n",
       "      <td>False</td>\n",
       "      <td>False</td>\n",
       "      <td>False</td>\n",
       "      <td>False</td>\n",
       "      <td>False</td>\n",
       "      <td>False</td>\n",
       "      <td>False</td>\n",
       "      <td>False</td>\n",
       "      <td>False</td>\n",
       "      <td>False</td>\n",
       "    </tr>\n",
       "    <tr>\n",
       "      <th>890</th>\n",
       "      <td>False</td>\n",
       "      <td>False</td>\n",
       "      <td>False</td>\n",
       "      <td>False</td>\n",
       "      <td>False</td>\n",
       "      <td>False</td>\n",
       "      <td>False</td>\n",
       "      <td>False</td>\n",
       "      <td>False</td>\n",
       "      <td>False</td>\n",
       "      <td>True</td>\n",
       "      <td>False</td>\n",
       "    </tr>\n",
       "  </tbody>\n",
       "</table>\n",
       "<p>891 rows × 12 columns</p>\n",
       "</div>"
      ],
      "text/plain": [
       "     PassengerId  Survived  Pclass   Name    Sex    Age  SibSp  Parch  Ticket  \\\n",
       "0          False     False   False  False  False  False  False  False   False   \n",
       "1          False     False   False  False  False  False  False  False   False   \n",
       "2          False     False   False  False  False  False  False  False   False   \n",
       "3          False     False   False  False  False  False  False  False   False   \n",
       "4          False     False   False  False  False  False  False  False   False   \n",
       "..           ...       ...     ...    ...    ...    ...    ...    ...     ...   \n",
       "886        False     False   False  False  False  False  False  False   False   \n",
       "887        False     False   False  False  False  False  False  False   False   \n",
       "888        False     False   False  False  False   True  False  False   False   \n",
       "889        False     False   False  False  False  False  False  False   False   \n",
       "890        False     False   False  False  False  False  False  False   False   \n",
       "\n",
       "      Fare  Cabin  Embarked  \n",
       "0    False   True     False  \n",
       "1    False  False     False  \n",
       "2    False   True     False  \n",
       "3    False  False     False  \n",
       "4    False   True     False  \n",
       "..     ...    ...       ...  \n",
       "886  False   True     False  \n",
       "887  False  False     False  \n",
       "888  False   True     False  \n",
       "889  False  False     False  \n",
       "890  False   True     False  \n",
       "\n",
       "[891 rows x 12 columns]"
      ]
     },
     "execution_count": 10,
     "metadata": {},
     "output_type": "execute_result"
    }
   ],
   "source": [
    "data.isnull()"
   ]
  },
  {
   "cell_type": "code",
   "execution_count": 11,
   "metadata": {},
   "outputs": [
    {
     "data": {
      "text/plain": [
       "<matplotlib.axes._subplots.AxesSubplot at 0x7f6bd2578f10>"
      ]
     },
     "execution_count": 11,
     "metadata": {},
     "output_type": "execute_result"
    },
    {
     "data": {
      "image/png": "[encoded data removed]",
      "text/plain": [
       "<Figure size 432x288 with 1 Axes>"
      ]
     },
     "metadata": {
      "needs_background": "light"
     },
     "output_type": "display_data"
    }
   ],
   "source": [
    "sns.heatmap(data.isnull(), yticklabels=False, cbar=False, cmap='viridis')"
   ]
  },
  {
   "cell_type": "markdown",
   "metadata": {},
   "source": [
    "#### Observation\n",
    "\n",
    "All Null entries are in Columns **Age** and **Cabin**. We will perform some Data Cleaning and Filling Operations for these empty values. The proportion of Cabin values missing makes data extrapolation based on existing values meaningless.\n"
   ]
  },
  {
   "cell_type": "code",
   "execution_count": 12,
   "metadata": {},
   "outputs": [
    {
     "data": {
      "text/html": [
       "<div>\n",
       "<style scoped>\n",
       "    .dataframe tbody tr th:only-of-type {\n",
       "        vertical-align: middle;\n",
       "    }\n",
       "\n",
       "    .dataframe tbody tr th {\n",
       "        vertical-align: top;\n",
       "    }\n",
       "\n",
       "    .dataframe thead th {\n",
       "        text-align: right;\n",
       "    }\n",
       "</style>\n",
       "<table border=\"1\" class=\"dataframe\">\n",
       "  <thead>\n",
       "    <tr style=\"text-align: right;\">\n",
       "      <th></th>\n",
       "      <th>PassengerId</th>\n",
       "      <th>Survived</th>\n",
       "      <th>Pclass</th>\n",
       "      <th>Name</th>\n",
       "      <th>Sex</th>\n",
       "      <th>Age</th>\n",
       "      <th>SibSp</th>\n",
       "      <th>Parch</th>\n",
       "      <th>Ticket</th>\n",
       "      <th>Fare</th>\n",
       "      <th>Cabin</th>\n",
       "      <th>Embarked</th>\n",
       "    </tr>\n",
       "  </thead>\n",
       "  <tbody>\n",
       "    <tr>\n",
       "      <th>61</th>\n",
       "      <td>62</td>\n",
       "      <td>1</td>\n",
       "      <td>1</td>\n",
       "      <td>Icard, Miss. Amelie</td>\n",
       "      <td>female</td>\n",
       "      <td>38.0</td>\n",
       "      <td>0</td>\n",
       "      <td>0</td>\n",
       "      <td>113572</td>\n",
       "      <td>80.0</td>\n",
       "      <td>B28</td>\n",
       "      <td>NaN</td>\n",
       "    </tr>\n",
       "    <tr>\n",
       "      <th>829</th>\n",
       "      <td>830</td>\n",
       "      <td>1</td>\n",
       "      <td>1</td>\n",
       "      <td>Stone, Mrs. George Nelson (Martha Evelyn)</td>\n",
       "      <td>female</td>\n",
       "      <td>62.0</td>\n",
       "      <td>0</td>\n",
       "      <td>0</td>\n",
       "      <td>113572</td>\n",
       "      <td>80.0</td>\n",
       "      <td>B28</td>\n",
       "      <td>NaN</td>\n",
       "    </tr>\n",
       "  </tbody>\n",
       "</table>\n",
       "</div>"
      ],
      "text/plain": [
       "     PassengerId  Survived  Pclass                                       Name  \\\n",
       "61            62         1       1                        Icard, Miss. Amelie   \n",
       "829          830         1       1  Stone, Mrs. George Nelson (Martha Evelyn)   \n",
       "\n",
       "        Sex   Age  SibSp  Parch  Ticket  Fare Cabin Embarked  \n",
       "61   female  38.0      0      0  113572  80.0   B28      NaN  \n",
       "829  female  62.0      0      0  113572  80.0   B28      NaN  "
      ]
     },
     "execution_count": 12,
     "metadata": {},
     "output_type": "execute_result"
    }
   ],
   "source": [
    "data[data[\"Embarked\"].isnull() == True]"
   ]
  },
  {
   "cell_type": "code",
   "execution_count": 13,
   "metadata": {},
   "outputs": [
    {
     "data": {
      "text/plain": [
       "(array([  0,   2,   4,   5,   5,   7,   8,   9,  12,  13,  14,  15,  16,\n",
       "         17,  17,  18,  19,  19,  20,  22,  24,  25,  26,  26,  28,  28,\n",
       "         29,  29,  30,  31,  32,  32,  33,  34,  35,  36,  36,  37,  38,\n",
       "         39,  40,  41,  42,  42,  43,  44,  45,  45,  46,  46,  47,  47,\n",
       "         48,  48,  49,  50,  51,  53,  55,  56,  57,  58,  59,  60,  61,\n",
       "         63,  64,  64,  65,  65,  67,  68,  69,  70,  71,  72,  73,  74,\n",
       "         76,  76,  77,  77,  78,  79,  80,  81,  82,  82,  83,  84,  85,\n",
       "         86,  87,  87,  89,  90,  91,  93,  94,  95,  95,  98,  99, 100,\n",
       "        101, 101, 103, 104, 105, 106, 107, 107, 108, 109, 109, 111, 112,\n",
       "        113, 114, 115, 116, 117, 119, 120, 121, 121, 122, 125, 126, 126,\n",
       "        127, 128, 129, 130, 131, 132, 133, 134, 135, 138, 140, 140, 141,\n",
       "        142, 143, 144, 145, 146, 147, 149, 150, 152, 153, 154, 154, 155,\n",
       "        156, 157, 158, 158, 159, 159, 160, 161, 162, 163, 164, 165, 166,\n",
       "        167, 168, 168, 169, 171, 172, 173, 175, 176, 176, 178, 179, 180,\n",
       "        180, 181, 181, 182, 184, 185, 186, 186, 187, 188, 189, 190, 191,\n",
       "        192, 196, 196, 197, 198, 198, 199, 200, 201, 201, 202, 203, 204,\n",
       "        206, 207, 208, 210, 211, 212, 213, 214, 214, 216, 217, 219, 220,\n",
       "        221, 222, 223, 223, 225, 226, 227, 228, 229, 229, 231, 232, 233,\n",
       "        234, 235, 235, 236, 237, 238, 239, 240, 240, 241, 241, 242, 243,\n",
       "        244, 246, 247, 249, 250, 250, 253, 254, 255, 256, 256, 258, 259,\n",
       "        260, 260, 261, 264, 264, 265, 266, 267, 270, 270, 271, 272, 274,\n",
       "        274, 276, 277, 277, 278, 279, 280, 281, 282, 283, 284, 285, 286,\n",
       "        287, 288, 289, 290, 293, 294, 295, 295, 296, 298, 300, 300, 301,\n",
       "        301, 302, 303, 304, 304, 306, 306, 308, 312, 313, 314, 315, 316,\n",
       "        317, 320, 321, 322, 323, 324, 324, 326, 328, 330, 330, 333, 334,\n",
       "        334, 335, 335, 338, 342, 343, 344, 346, 347, 347, 348, 349, 350,\n",
       "        351, 352, 353, 354, 354, 355, 357, 358, 358, 359, 359, 360, 361,\n",
       "        362, 363, 364, 364, 365, 367, 367, 368, 368, 371, 372, 373, 374,\n",
       "        375, 375, 376, 378, 379, 380, 381, 382, 383, 384, 384, 385, 386,\n",
       "        387, 388, 388, 389, 391, 392, 395, 396, 397, 398, 399, 400, 401,\n",
       "        402, 403, 404, 405, 406, 407, 408, 409, 409, 410, 410, 411, 411,\n",
       "        413, 413, 414, 415, 415, 416, 417, 418, 419, 420, 420, 421, 422,\n",
       "        423, 424, 425, 425, 426, 427, 428, 428, 431, 431, 432, 433, 436,\n",
       "        437, 439, 440, 441, 442, 443, 444, 444, 446, 447, 448, 450, 451,\n",
       "        451, 454, 454, 455, 457, 458, 459, 459, 461, 463, 464, 464, 465,\n",
       "        466, 466, 467, 468, 468, 469, 470, 470, 471, 472, 474, 475, 476,\n",
       "        477, 478, 479, 480, 481, 481, 482, 483, 485, 485, 488, 489, 490,\n",
       "        490, 491, 493, 494, 495, 495, 497, 497, 499, 500, 501, 502, 502,\n",
       "        503, 506, 507, 507, 508, 509, 510, 511, 511, 513, 514, 517, 517,\n",
       "        518, 519, 521, 522, 522, 524, 524, 525, 526, 527, 528, 529, 530,\n",
       "        531, 531, 532, 533, 533, 534, 535, 537, 538, 538, 541, 542, 543,\n",
       "        545, 546, 547, 547, 548, 549, 551, 552, 552, 553, 554, 555, 557,\n",
       "        557, 559, 560, 560, 561, 562, 563, 563, 564, 564, 565, 566, 567,\n",
       "        568, 568, 569, 570, 573, 573, 574, 575, 576, 578, 578, 579, 580,\n",
       "        582, 584, 584, 586, 588, 589, 589, 590, 592, 593, 593, 594, 595,\n",
       "        596, 596, 597, 598, 598, 600, 601, 601, 602, 602, 603, 604, 605,\n",
       "        606, 607, 608, 610, 611, 611, 612, 612, 613, 613, 614, 615, 616,\n",
       "        617, 619, 620, 622, 623, 624, 626, 628, 629, 629, 631, 633, 633,\n",
       "        634, 635, 636, 637, 638, 639, 639, 640, 642, 643, 643, 644, 646,\n",
       "        648, 648, 649, 650, 650, 651, 652, 653, 653, 654, 655, 656, 656,\n",
       "        657, 658, 660, 661, 663, 664, 665, 666, 667, 667, 668, 669, 670,\n",
       "        672, 673, 674, 674, 675, 676, 677, 678, 680, 680, 682, 683, 684,\n",
       "        685, 686, 687, 688, 691, 692, 692, 693, 694, 695, 696, 697, 697,\n",
       "        702, 703, 704, 705, 706, 708, 709, 709, 711, 713, 714, 718, 718,\n",
       "        719, 720, 721, 722, 723, 725, 726, 727, 727, 728, 729, 731, 732,\n",
       "        732, 733, 734, 735, 736, 738, 738, 739, 739, 740, 743, 744, 746,\n",
       "        747, 749, 750, 752, 753, 754, 755, 756, 757, 758, 760, 760, 761,\n",
       "        762, 764, 766, 766, 767, 768, 768, 769, 770, 771, 773, 773, 774,\n",
       "        775, 776, 777, 778, 778, 780, 783, 783, 784, 785, 786, 787, 788,\n",
       "        790, 790, 791, 792, 792, 793, 793, 794, 795, 797, 798, 799, 800,\n",
       "        801, 803, 804, 805, 807, 808, 810, 811, 812, 813, 814, 815, 816,\n",
       "        817, 818, 819, 821, 822, 824, 825, 825, 826, 826, 827, 828, 828,\n",
       "        829, 830, 831, 832, 832, 833, 834, 836, 837, 837, 838, 839, 840,\n",
       "        841, 842, 843, 844, 845, 846, 846, 847, 848, 849, 850, 851, 852,\n",
       "        854, 855, 856, 858, 859, 859, 860, 861, 863, 863, 864, 865, 866,\n",
       "        868, 868, 869, 870, 873, 874, 875, 876, 877, 878, 878, 880, 881,\n",
       "        882, 883, 884, 885, 886, 888, 888, 890]),\n",
       " array([10, 10, 10,  5, 10, 10, 10, 10, 10, 10, 10, 10, 10,  5, 10, 10,  5,\n",
       "        10, 10, 10, 10, 10,  5, 10,  5, 10,  5, 10, 10,  5,  5, 10, 10, 10,\n",
       "        10,  5, 10, 10, 10, 10, 10, 10,  5, 10, 10, 10,  5, 10,  5, 10,  5,\n",
       "        10,  5, 10, 10, 10, 10, 10,  5, 10, 10, 10, 10, 10, 11, 10,  5, 10,\n",
       "         5, 10, 10, 10, 10, 10, 10, 10, 10, 10,  5, 10,  5, 10, 10, 10, 10,\n",
       "        10,  5, 10, 10, 10, 10, 10,  5, 10, 10, 10, 10, 10, 10,  5, 10, 10,\n",
       "        10, 10,  5, 10, 10, 10, 10, 10,  5, 10, 10,  5, 10, 10, 10, 10, 10,\n",
       "        10, 10, 10, 10, 10,  5, 10, 10, 10,  5, 10, 10,  5, 10, 10, 10, 10,\n",
       "        10, 10, 10, 10,  5, 10, 10, 10, 10, 10, 10, 10, 10, 10, 10, 10, 10,\n",
       "         5, 10, 10, 10, 10,  5, 10,  5, 10, 10, 10, 10, 10, 10, 10,  5, 10,\n",
       "         5, 10, 10, 10, 10, 10, 10,  5, 10, 10, 10,  5, 10,  5, 10, 10, 10,\n",
       "         5,  5, 10, 10, 10, 10, 10, 10, 10,  5, 10, 10,  5, 10, 10, 10,  5,\n",
       "        10, 10, 10, 10, 10, 10, 10, 10, 10, 10, 10,  5, 10, 10, 10, 10, 10,\n",
       "        10, 10,  5, 10, 10, 10, 10, 10,  5, 10, 10, 10, 10, 10,  5, 10, 10,\n",
       "        10, 10, 10,  5, 10,  5, 10, 10, 10, 10, 10, 10, 10,  5, 10, 10, 10,\n",
       "        10,  5, 10, 10, 10,  5, 10, 10,  5, 10, 10, 10, 10,  5, 10, 10, 10,\n",
       "         5, 10, 10,  5, 10, 10, 10, 10, 10, 10, 10,  5, 10, 10, 10, 10, 10,\n",
       "        10, 10, 10,  5, 10, 10,  5,  5, 10,  5, 10, 10,  5,  5, 10,  5, 10,\n",
       "        10, 10, 10, 10, 10, 10, 10, 10, 10, 10, 10,  5, 10, 10, 10,  5, 10,\n",
       "        10,  5, 10,  5, 10, 10, 10, 10, 10, 10,  5, 10, 10, 10, 10,  5, 10,\n",
       "        10,  5, 10, 10, 10,  5, 10,  5, 10, 10, 10, 10, 10,  5, 10, 10,  5,\n",
       "        10,  5, 10, 10, 10, 10, 10,  5, 10, 10, 10, 10, 10, 10, 10, 10,  5,\n",
       "        10, 10, 10, 10,  5, 10, 10, 10, 10, 10, 10, 10, 10, 10, 10, 10, 10,\n",
       "        10, 10, 10, 10, 10, 10,  5, 10,  5, 10,  5, 10,  5, 10, 10,  5, 10,\n",
       "        10, 10, 10, 10,  5, 10, 10, 10, 10, 10,  5, 10, 10, 10,  5, 10,  5,\n",
       "        10, 10, 10, 10, 10, 10, 10, 10, 10, 10,  5, 10, 10, 10, 10, 10,  5,\n",
       "        10,  5, 10, 10,  5, 10,  5, 10, 10, 10,  5, 10, 10,  5, 10, 10,  5,\n",
       "        10, 10,  5, 10, 10, 10, 10,  5, 10, 10, 10, 10, 10,  5, 10, 10, 10,\n",
       "         5, 10, 10, 10,  5, 10, 10, 10, 10,  5, 10,  5, 10, 10, 10, 10,  5,\n",
       "        10, 10, 10,  5, 10, 10, 10, 10,  5, 10, 10, 10,  5, 10, 10, 10, 10,\n",
       "         5, 10,  5, 10, 10, 10,  5, 10, 10, 10,  5, 10, 10,  5, 10, 10, 10,\n",
       "        10,  5, 10, 10, 10, 10, 10, 10,  5, 10, 10, 10, 10,  5, 10, 10, 10,\n",
       "        10,  5, 10, 10,  5, 10, 10, 10,  5, 10,  5, 10, 10, 10, 10,  5, 10,\n",
       "        10, 10,  5, 10, 10, 10, 10,  5, 10, 10, 10, 10,  5, 10, 10, 10,  5,\n",
       "        10, 10, 10,  5, 10, 10, 10,  5, 10, 10,  5, 10, 10,  5, 10,  5, 10,\n",
       "        10, 10, 10, 10, 10, 10, 10,  5, 10,  5, 10,  5, 10, 10, 10, 10, 10,\n",
       "        10, 10, 10, 10, 10, 10, 10,  5, 10, 10,  5, 10, 10, 10, 10, 10, 10,\n",
       "         5, 10, 10, 10,  5, 10, 10, 10,  5, 10, 10,  5, 10, 10, 10,  5, 10,\n",
       "        10, 10,  5, 10, 10, 10, 10, 10, 10, 10, 10, 10,  5, 10, 10,  5, 10,\n",
       "        10, 10,  5, 10, 10, 10, 10, 10,  5, 10, 10, 10, 10, 10, 10, 10, 10,\n",
       "        10,  5, 10, 10, 10, 10, 10,  5, 10, 10, 10, 10, 10, 10, 10,  5, 10,\n",
       "         5, 10, 10,  5, 10, 10, 10, 10, 10, 10, 10, 10,  5, 10, 10, 10, 10,\n",
       "         5, 10, 10, 10, 10, 10,  5, 10,  5, 10,  5, 10, 10, 10, 10, 10, 10,\n",
       "        10, 10, 10, 10, 10, 10, 10,  5, 10, 10, 10, 10,  5, 10, 10,  5, 10,\n",
       "        10, 10, 10,  5, 10, 10, 10,  5, 10,  5, 10, 10,  5, 10, 10, 10, 10,\n",
       "        10, 10,  5, 10, 10,  5, 10,  5, 10, 10, 10, 10, 10, 10, 10, 10, 10,\n",
       "        10, 10, 10, 10, 10, 10, 10, 10, 10,  5, 10, 10, 10, 10, 10, 10, 10,\n",
       "         5, 10,  5, 10, 10,  5, 10, 11, 10, 10,  5, 10, 10, 10, 10,  5, 10,\n",
       "        10,  5, 10, 10, 10, 10, 10, 10,  5, 10, 10, 10,  5, 10, 10, 10, 10,\n",
       "        10, 10, 10,  5, 10, 10, 10,  5, 10, 10, 10, 10,  5, 10, 10, 10, 10,\n",
       "        10, 10, 10, 10,  5, 10, 10, 10, 10, 10, 10, 10, 10,  5, 10, 10]))"
      ]
     },
     "execution_count": 13,
     "metadata": {},
     "output_type": "execute_result"
    }
   ],
   "source": [
    "# Final Check\n",
    "# Check for NaN in Dataframe\n",
    "np.where(pd.isnull(data))"
   ]
  },
  {
   "cell_type": "code",
   "execution_count": 14,
   "metadata": {},
   "outputs": [
    {
     "data": {
      "application/vnd.jupyter.widget-view+json": {
       "model_id": "44f2706ec10747f198244a370160db46",
       "version_major": 2,
       "version_minor": 0
      },
      "text/plain": [
       "VBox(children=(ToggleButtons(_dom_classes=('layout-c273a1c8b7fa47cd8df99864293c5b13',), description='Selection…"
      ]
     },
     "metadata": {},
     "output_type": "display_data"
    }
   ],
   "source": [
    "VisualAnalysis(data)"
   ]
  },
  {
   "cell_type": "code",
   "execution_count": 15,
   "metadata": {},
   "outputs": [
    {
     "data": {
      "text/plain": [
       "<matplotlib.axes._subplots.AxesSubplot at 0x7f6bd1fd6410>"
      ]
     },
     "execution_count": 15,
     "metadata": {},
     "output_type": "execute_result"
    },
    {
     "data": {
      "image/png": "[encoded data removed]",
      "text/plain": [
       "<Figure size 842.4x595.44 with 1 Axes>"
      ]
     },
     "metadata": {},
     "output_type": "display_data"
    }
   ],
   "source": [
    "sns.set(rc={'figure.figsize':(11.7,8.27)})\n",
    "sns.set_style('whitegrid')\n",
    "sns.countplot(x='Survived', data=data, palette=\"viridis\")"
   ]
  },
  {
   "cell_type": "code",
   "execution_count": 16,
   "metadata": {},
   "outputs": [
    {
     "data": {
      "text/plain": [
       "<matplotlib.axes._subplots.AxesSubplot at 0x7f6bd1f5cad0>"
      ]
     },
     "execution_count": 16,
     "metadata": {},
     "output_type": "execute_result"
    },
    {
     "data": {
      "image/png": "[encoded data removed]",
      "text/plain": [
       "<Figure size 842.4x595.44 with 1 Axes>"
      ]
     },
     "metadata": {},
     "output_type": "display_data"
    }
   ],
   "source": [
    "sns.countplot(x='Survived', hue='Sex', data=data, palette=\"viridis\")"
   ]
  },
  {
   "cell_type": "code",
   "execution_count": 17,
   "metadata": {},
   "outputs": [
    {
     "data": {
      "text/plain": [
       "<matplotlib.axes._subplots.AxesSubplot at 0x7f6bd1eddb90>"
      ]
     },
     "execution_count": 17,
     "metadata": {},
     "output_type": "execute_result"
    },
    {
     "data": {
      "image/png": "[encoded data removed]",
      "text/plain": [
       "<Figure size 842.4x595.44 with 1 Axes>"
      ]
     },
     "metadata": {},
     "output_type": "display_data"
    }
   ],
   "source": [
    "sns.countplot(x='Survived', hue='Pclass', data=data)"
   ]
  },
  {
   "cell_type": "markdown",
   "metadata": {},
   "source": [
    "We observe that "
   ]
  },
  {
   "cell_type": "code",
   "execution_count": 18,
   "metadata": {},
   "outputs": [
    {
     "data": {
      "text/plain": [
       "<matplotlib.axes._subplots.AxesSubplot at 0x7f6bd1e5e9d0>"
      ]
     },
     "execution_count": 18,
     "metadata": {},
     "output_type": "execute_result"
    },
    {
     "data": {
      "image/png": "[encoded data removed]",
      "text/plain": [
       "<Figure size 842.4x595.44 with 1 Axes>"
      ]
     },
     "metadata": {},
     "output_type": "display_data"
    }
   ],
   "source": [
    "sns.countplot(x='SibSp', data=data)"
   ]
  },
  {
   "cell_type": "code",
   "execution_count": 19,
   "metadata": {},
   "outputs": [
    {
     "data": {
      "text/plain": [
       "<matplotlib.axes._subplots.AxesSubplot at 0x7f6bd1e4c950>"
      ]
     },
     "execution_count": 19,
     "metadata": {},
     "output_type": "execute_result"
    },
    {
     "data": {
      "image/png": "[encoded data removed]",
      "text/plain": [
       "<Figure size 842.4x595.44 with 1 Axes>"
      ]
     },
     "metadata": {},
     "output_type": "display_data"
    }
   ],
   "source": [
    "sns.countplot(x='Parch', data=data)"
   ]
  },
  {
   "cell_type": "code",
   "execution_count": 20,
   "metadata": {},
   "outputs": [
    {
     "data": {
      "text/plain": [
       "<matplotlib.axes._subplots.AxesSubplot at 0x7f6bd1daf890>"
      ]
     },
     "execution_count": 20,
     "metadata": {},
     "output_type": "execute_result"
    },
    {
     "data": {
      "image/png": "[encoded data removed]",
      "text/plain": [
       "<Figure size 842.4x595.44 with 1 Axes>"
      ]
     },
     "metadata": {},
     "output_type": "display_data"
    }
   ],
   "source": [
    "sns.distplot(data[\"Age\"].dropna(), kde=False, color='darkred', bins=25)"
   ]
  },
  {
   "cell_type": "code",
   "execution_count": 21,
   "metadata": {},
   "outputs": [
    {
     "data": {
      "text/plain": [
       "<matplotlib.axes._subplots.AxesSubplot at 0x7f6bd1ad2a90>"
      ]
     },
     "execution_count": 21,
     "metadata": {},
     "output_type": "execute_result"
    },
    {
     "data": {
      "image/png": "[encoded data removed]",
      "text/plain": [
       "<Figure size 842.4x595.44 with 1 Axes>"
      ]
     },
     "metadata": {},
     "output_type": "display_data"
    }
   ],
   "source": [
    "data[\"Fare\"].hist(color='red',bins=40)"
   ]
  },
  {
   "cell_type": "markdown",
   "metadata": {},
   "source": [
    "# Data Cleaning"
   ]
  },
  {
   "cell_type": "markdown",
   "metadata": {},
   "source": [
    "In this section I will clean the data for the training phase fo the pipeline. This includes filling in empty entries, dropping non-relevant columns and mapping string labeled data to numeric values."
   ]
  },
  {
   "cell_type": "markdown",
   "metadata": {},
   "source": [
    "## 1. Filling up the Age Column"
   ]
  },
  {
   "cell_type": "markdown",
   "metadata": {},
   "source": [
    "### Trivial Idea\n",
    "Filling up the columns based on the mean of the distribution of Age's."
   ]
  },
  {
   "cell_type": "code",
   "execution_count": 22,
   "metadata": {},
   "outputs": [
    {
     "data": {
      "text/plain": [
       "29.69911764705882"
      ]
     },
     "metadata": {},
     "output_type": "display_data"
    }
   ],
   "source": [
    "# Replacing Non-entries of Age\n",
    "age_mean = data[\"Age\"].mean()\n",
    "display(age_mean)"
   ]
  },
  {
   "cell_type": "markdown",
   "metadata": {},
   "source": [
    "### Analyzing Underlying Relationship between Age and other data fields"
   ]
  },
  {
   "cell_type": "code",
   "execution_count": 23,
   "metadata": {},
   "outputs": [
    {
     "data": {
      "text/plain": [
       "<matplotlib.axes._subplots.AxesSubplot at 0x7f6bd65ef5d0>"
      ]
     },
     "execution_count": 23,
     "metadata": {},
     "output_type": "execute_result"
    },
    {
     "data": {
      "image/png": "[encoded data removed]",
      "text/plain": [
       "<Figure size 842.4x595.44 with 1 Axes>"
      ]
     },
     "metadata": {},
     "output_type": "display_data"
    }
   ],
   "source": [
    "# Boxplot of Ages vs Passenger class\n",
    "sns.boxplot(x=\"Pclass\", y=\"Age\", data = data, palette=\"winter\")"
   ]
  },
  {
   "cell_type": "markdown",
   "metadata": {},
   "source": [
    "**Observation:** The Median Age of the First class passengers is more than the second class passengers who in turn are older than the third class passengers. \n",
    "Utilizing this idea we fill in the ages according to the class the passenger was in."
   ]
  },
  {
   "cell_type": "code",
   "execution_count": 24,
   "metadata": {},
   "outputs": [
    {
     "data": {
      "text/plain": [
       "1      38.0\n",
       "3      35.0\n",
       "6      54.0\n",
       "11     58.0\n",
       "23     28.0\n",
       "       ... \n",
       "871    47.0\n",
       "872    33.0\n",
       "879    56.0\n",
       "887    19.0\n",
       "889    26.0\n",
       "Name: Age, Length: 216, dtype: float64"
      ]
     },
     "execution_count": 24,
     "metadata": {},
     "output_type": "execute_result"
    }
   ],
   "source": [
    "data[data[\"Pclass\"] == 1][\"Age\"]"
   ]
  },
  {
   "cell_type": "code",
   "execution_count": 25,
   "metadata": {},
   "outputs": [],
   "source": [
    "# Median Age of the Three Classes\n",
    "median_first_class = data[data[\"Pclass\"] == 1][\"Age\"].median()\n",
    "median_second_class = data[data[\"Pclass\"] == 2][\"Age\"].median()\n",
    "median_third_class = data[data[\"Pclass\"] == 3][\"Age\"].median()"
   ]
  },
  {
   "cell_type": "code",
   "execution_count": 26,
   "metadata": {},
   "outputs": [],
   "source": [
    "def age_fill_in(cols):\n",
    "    Age = cols[0]\n",
    "    Pclass = cols[1]\n",
    "    \n",
    "    if pd.isnull(Age):        \n",
    "        if Pclass == 1:\n",
    "            return median_first_class\n",
    "        \n",
    "        elif Pclass == 2:\n",
    "            return median_second_class\n",
    "        \n",
    "        elif Pclass == 3:\n",
    "            return median_third_class        \n",
    "    else:\n",
    "        return Age"
   ]
  },
  {
   "cell_type": "code",
   "execution_count": 27,
   "metadata": {},
   "outputs": [],
   "source": [
    "data['Age'] = data[['Age','Pclass']].apply(age_fill_in,axis=1)"
   ]
  },
  {
   "cell_type": "markdown",
   "metadata": {},
   "source": [
    "## 2. Mapping Label Categorical Distribution of Sex to Numeric Categories"
   ]
  },
  {
   "cell_type": "code",
   "execution_count": 28,
   "metadata": {},
   "outputs": [],
   "source": [
    "# Modifying Sex Column to Numeric Categories\n",
    "data['Sex'] = data['Sex'].map({'female': 1, 'male': 0})"
   ]
  },
  {
   "cell_type": "markdown",
   "metadata": {},
   "source": [
    "## 3. Filling in Missing Embarked Data"
   ]
  },
  {
   "cell_type": "code",
   "execution_count": 29,
   "metadata": {},
   "outputs": [
    {
     "data": {
      "text/plain": [
       "'S'"
      ]
     },
     "metadata": {},
     "output_type": "display_data"
    }
   ],
   "source": [
    "# Analyzing Missing Embarked Entries\n",
    "embar_mode = data[\"Embarked\"].mode()\n",
    "\n",
    "display(embar_mode[0])\n",
    "data[\"Embarked\"] = data[\"Embarked\"].fillna(embar_mode[0])"
   ]
  },
  {
   "cell_type": "markdown",
   "metadata": {},
   "source": [
    "## 4. Mapping of Embarked Data"
   ]
  },
  {
   "cell_type": "code",
   "execution_count": 30,
   "metadata": {},
   "outputs": [],
   "source": [
    "# Modifying Embarked Categories to Numeric Categories\n",
    "data['Embarked'] = data['Embarked'].map({'S': 2, 'C': 1, 'Q': 0})"
   ]
  },
  {
   "cell_type": "code",
   "execution_count": 31,
   "metadata": {},
   "outputs": [
    {
     "data": {
      "text/plain": [
       "['B96', 'B98']"
      ]
     },
     "metadata": {},
     "output_type": "display_data"
    }
   ],
   "source": [
    "# Analyzing Missing Cabin Entries\n",
    "cabin_mode = data[\"Cabin\"].mode()[0]\n",
    "# Dealing with two mode\n",
    "cabin_mode = cabin_mode.split()\n",
    "display(cabin_mode)"
   ]
  },
  {
   "cell_type": "code",
   "execution_count": 32,
   "metadata": {},
   "outputs": [
    {
     "data": {
      "text/html": [
       "<div>\n",
       "<style scoped>\n",
       "    .dataframe tbody tr th:only-of-type {\n",
       "        vertical-align: middle;\n",
       "    }\n",
       "\n",
       "    .dataframe tbody tr th {\n",
       "        vertical-align: top;\n",
       "    }\n",
       "\n",
       "    .dataframe thead th {\n",
       "        text-align: right;\n",
       "    }\n",
       "</style>\n",
       "<table border=\"1\" class=\"dataframe\">\n",
       "  <thead>\n",
       "    <tr style=\"text-align: right;\">\n",
       "      <th></th>\n",
       "      <th>PassengerId</th>\n",
       "      <th>Survived</th>\n",
       "      <th>Pclass</th>\n",
       "      <th>Name</th>\n",
       "      <th>Sex</th>\n",
       "      <th>Age</th>\n",
       "      <th>SibSp</th>\n",
       "      <th>Parch</th>\n",
       "      <th>Ticket</th>\n",
       "      <th>Fare</th>\n",
       "      <th>Cabin</th>\n",
       "      <th>Embarked</th>\n",
       "    </tr>\n",
       "  </thead>\n",
       "  <tbody>\n",
       "    <tr>\n",
       "      <th>0</th>\n",
       "      <td>1</td>\n",
       "      <td>0</td>\n",
       "      <td>3</td>\n",
       "      <td>Braund, Mr. Owen Harris</td>\n",
       "      <td>0</td>\n",
       "      <td>22.0</td>\n",
       "      <td>1</td>\n",
       "      <td>0</td>\n",
       "      <td>A/5 21171</td>\n",
       "      <td>7.2500</td>\n",
       "      <td>NaN</td>\n",
       "      <td>2</td>\n",
       "    </tr>\n",
       "    <tr>\n",
       "      <th>1</th>\n",
       "      <td>2</td>\n",
       "      <td>1</td>\n",
       "      <td>1</td>\n",
       "      <td>Cumings, Mrs. John Bradley (Florence Briggs Th...</td>\n",
       "      <td>1</td>\n",
       "      <td>38.0</td>\n",
       "      <td>1</td>\n",
       "      <td>0</td>\n",
       "      <td>PC 17599</td>\n",
       "      <td>71.2833</td>\n",
       "      <td>C85</td>\n",
       "      <td>1</td>\n",
       "    </tr>\n",
       "    <tr>\n",
       "      <th>2</th>\n",
       "      <td>3</td>\n",
       "      <td>1</td>\n",
       "      <td>3</td>\n",
       "      <td>Heikkinen, Miss. Laina</td>\n",
       "      <td>1</td>\n",
       "      <td>26.0</td>\n",
       "      <td>0</td>\n",
       "      <td>0</td>\n",
       "      <td>STON/O2. 3101282</td>\n",
       "      <td>7.9250</td>\n",
       "      <td>NaN</td>\n",
       "      <td>2</td>\n",
       "    </tr>\n",
       "    <tr>\n",
       "      <th>3</th>\n",
       "      <td>4</td>\n",
       "      <td>1</td>\n",
       "      <td>1</td>\n",
       "      <td>Futrelle, Mrs. Jacques Heath (Lily May Peel)</td>\n",
       "      <td>1</td>\n",
       "      <td>35.0</td>\n",
       "      <td>1</td>\n",
       "      <td>0</td>\n",
       "      <td>113803</td>\n",
       "      <td>53.1000</td>\n",
       "      <td>C123</td>\n",
       "      <td>2</td>\n",
       "    </tr>\n",
       "    <tr>\n",
       "      <th>4</th>\n",
       "      <td>5</td>\n",
       "      <td>0</td>\n",
       "      <td>3</td>\n",
       "      <td>Allen, Mr. William Henry</td>\n",
       "      <td>0</td>\n",
       "      <td>35.0</td>\n",
       "      <td>0</td>\n",
       "      <td>0</td>\n",
       "      <td>373450</td>\n",
       "      <td>8.0500</td>\n",
       "      <td>NaN</td>\n",
       "      <td>2</td>\n",
       "    </tr>\n",
       "  </tbody>\n",
       "</table>\n",
       "</div>"
      ],
      "text/plain": [
       "   PassengerId  Survived  Pclass  \\\n",
       "0            1         0       3   \n",
       "1            2         1       1   \n",
       "2            3         1       3   \n",
       "3            4         1       1   \n",
       "4            5         0       3   \n",
       "\n",
       "                                                Name  Sex   Age  SibSp  Parch  \\\n",
       "0                            Braund, Mr. Owen Harris    0  22.0      1      0   \n",
       "1  Cumings, Mrs. John Bradley (Florence Briggs Th...    1  38.0      1      0   \n",
       "2                             Heikkinen, Miss. Laina    1  26.0      0      0   \n",
       "3       Futrelle, Mrs. Jacques Heath (Lily May Peel)    1  35.0      1      0   \n",
       "4                           Allen, Mr. William Henry    0  35.0      0      0   \n",
       "\n",
       "             Ticket     Fare Cabin  Embarked  \n",
       "0         A/5 21171   7.2500   NaN         2  \n",
       "1          PC 17599  71.2833   C85         1  \n",
       "2  STON/O2. 3101282   7.9250   NaN         2  \n",
       "3            113803  53.1000  C123         2  \n",
       "4            373450   8.0500   NaN         2  "
      ]
     },
     "execution_count": 32,
     "metadata": {},
     "output_type": "execute_result"
    }
   ],
   "source": [
    "data.head()"
   ]
  },
  {
   "cell_type": "code",
   "execution_count": 33,
   "metadata": {},
   "outputs": [
    {
     "data": {
      "text/plain": [
       "<matplotlib.axes._subplots.AxesSubplot at 0x7f6bd194f2d0>"
      ]
     },
     "execution_count": 33,
     "metadata": {},
     "output_type": "execute_result"
    },
    {
     "data": {
      "image/png": "[encoded data removed]",
      "text/plain": [
       "<Figure size 842.4x595.44 with 1 Axes>"
      ]
     },
     "metadata": {},
     "output_type": "display_data"
    }
   ],
   "source": [
    "# Final Check\n",
    "sns.heatmap(data.isnull(), yticklabels=False, cbar=False, cmap='viridis')"
   ]
  },
  {
   "cell_type": "markdown",
   "metadata": {},
   "source": [
    "## 5. Test-Train Split"
   ]
  },
  {
   "cell_type": "code",
   "execution_count": 34,
   "metadata": {},
   "outputs": [],
   "source": [
    "# Split Data into Trainig and Validation sets (80-20)\n",
    "msk = np.random.rand(len(data)) < 0.8\n",
    "train = data[msk]\n",
    "test = data[~msk]"
   ]
  },
  {
   "cell_type": "markdown",
   "metadata": {},
   "source": [
    "## 6. Dropping off Non-relevant Columns"
   ]
  },
  {
   "cell_type": "code",
   "execution_count": 35,
   "metadata": {},
   "outputs": [],
   "source": [
    "# Preparing Dataset for ML models\n",
    "feature_names = ['Pclass', 'Sex', 'Age', 'SibSp', 'Parch', 'Fare', 'Embarked']\n",
    "X_train = train[feature_names]\n",
    "y_train = train['Survived']\n",
    "\n",
    "X_test = test[feature_names]\n",
    "y_test = test['Survived']"
   ]
  },
  {
   "cell_type": "markdown",
   "metadata": {},
   "source": [
    "## 7. Scaling Data Range "
   ]
  },
  {
   "cell_type": "code",
   "execution_count": 36,
   "metadata": {},
   "outputs": [],
   "source": [
    "# Feature Space needs to be scaled for certain ML models\n",
    "from sklearn.preprocessing import MinMaxScaler\n",
    "scaler = MinMaxScaler()\n",
    "X_train_scaled = scaler.fit_transform(X_train)\n",
    "X_test_scaled = scaler.transform(X_test)"
   ]
  },
  {
   "cell_type": "markdown",
   "metadata": {},
   "source": [
    "# Training"
   ]
  },
  {
   "cell_type": "code",
   "execution_count": 37,
   "metadata": {},
   "outputs": [
    {
     "name": "stdout",
     "output_type": "stream",
     "text": [
      "Accuracy of Logistic regression classifier on training set: 0.80\n",
      "Accuracy of Logistic regression classifier on test set: 0.80\n"
     ]
    }
   ],
   "source": [
    "# Logistic Regression\n",
    "from sklearn.linear_model import LogisticRegression\n",
    "logreg = LogisticRegression()\n",
    "logreg.fit(X_train_scaled, y_train)\n",
    "print('Accuracy of Logistic regression classifier on training set: {:.2f}'\n",
    "     .format(logreg.score(X_train_scaled, y_train)))\n",
    "print('Accuracy of Logistic regression classifier on test set: {:.2f}'\n",
    "     .format(logreg.score(X_test_scaled, y_test)))"
   ]
  },
  {
   "cell_type": "code",
   "execution_count": 51,
   "metadata": {},
   "outputs": [
    {
     "ename": "NameError",
     "evalue": "name 'class_names' is not defined",
     "output_type": "error",
     "traceback": [
      "\u001b[0;31m---------------------------------------------------------------------------\u001b[0m",
      "\u001b[0;31mNameError\u001b[0m                                 Traceback (most recent call last)",
      "\u001b[0;32m<ipython-input-51-b4796e57f18f>\u001b[0m in \u001b[0;36m<module>\u001b[0;34m\u001b[0m\n\u001b[1;32m      3\u001b[0m \u001b[0maccuracy\u001b[0m\u001b[0;34m=\u001b[0m\u001b[0mconfusion_matrix\u001b[0m\u001b[0;34m(\u001b[0m\u001b[0my_test\u001b[0m\u001b[0;34m,\u001b[0m\u001b[0mpredictions\u001b[0m\u001b[0;34m)\u001b[0m\u001b[0;34m\u001b[0m\u001b[0;34m\u001b[0m\u001b[0m\n\u001b[1;32m      4\u001b[0m disp = plot_confusion_matrix(logreg, X_test_scaled, y_test,\n\u001b[0;32m----> 5\u001b[0;31m                                  \u001b[0mdisplay_labels\u001b[0m\u001b[0;34m=\u001b[0m\u001b[0mclass_names\u001b[0m\u001b[0;34m,\u001b[0m\u001b[0;34m\u001b[0m\u001b[0;34m\u001b[0m\u001b[0m\n\u001b[0m\u001b[1;32m      6\u001b[0m                                  \u001b[0mcmap\u001b[0m\u001b[0;34m=\u001b[0m\u001b[0mplt\u001b[0m\u001b[0;34m.\u001b[0m\u001b[0mcm\u001b[0m\u001b[0;34m.\u001b[0m\u001b[0mBlues\u001b[0m\u001b[0;34m,\u001b[0m\u001b[0;34m\u001b[0m\u001b[0;34m\u001b[0m\u001b[0m\n\u001b[1;32m      7\u001b[0m                                  normalize=normalize)\n",
      "\u001b[0;31mNameError\u001b[0m: name 'class_names' is not defined"
     ]
    }
   ],
   "source": [
    "predictions = logreg.predict(X_test_scaled)\n",
    "np.set_printoptions(precision=2)\n",
    "accuracy=confusion_matrix(y_test,predictions)\n",
    "disp = plot_confusion_matrix(logreg, X_test_scaled, y_test,\n",
    "                                 display_labels=class_names,\n",
    "                                 cmap=plt.cm.Blues,\n",
    "                                 normalize=normalize)\n",
    "disp.ax_.set_title(title)"
   ]
  },
  {
   "cell_type": "code",
   "execution_count": 38,
   "metadata": {},
   "outputs": [
    {
     "name": "stdout",
     "output_type": "stream",
     "text": [
      "Accuracy of Decision Tree classifier on training set: 0.99\n",
      "Accuracy of Decision Tree classifier on test set: 0.78\n"
     ]
    }
   ],
   "source": [
    "# Decision Tree\n",
    "from sklearn.tree import DecisionTreeClassifier\n",
    "clf = DecisionTreeClassifier().fit(X_train, y_train)\n",
    "print('Accuracy of Decision Tree classifier on training set: {:.2f}'\n",
    "     .format(clf.score(X_train, y_train)))\n",
    "print('Accuracy of Decision Tree classifier on test set: {:.2f}'\n",
    "     .format(clf.score(X_test, y_test)))"
   ]
  },
  {
   "cell_type": "code",
   "execution_count": 39,
   "metadata": {},
   "outputs": [
    {
     "name": "stdout",
     "output_type": "stream",
     "text": [
      "Accuracy of K-NN classifier on training set: 0.79\n",
      "Accuracy of K-NN classifier on test set: 0.70\n"
     ]
    }
   ],
   "source": [
    "#k-NN Classification\n",
    "from sklearn.neighbors import KNeighborsClassifier\n",
    "knn = KNeighborsClassifier()\n",
    "knn.fit(X_train, y_train)\n",
    "print('Accuracy of K-NN classifier on training set: {:.2f}'\n",
    "     .format(knn.score(X_train, y_train)))\n",
    "print('Accuracy of K-NN classifier on test set: {:.2f}'\n",
    "     .format(knn.score(X_test, y_test)))"
   ]
  },
  {
   "cell_type": "code",
   "execution_count": 40,
   "metadata": {},
   "outputs": [
    {
     "name": "stdout",
     "output_type": "stream",
     "text": [
      "Accuracy of LDA classifier on training set: 0.80\n",
      "Accuracy of LDA classifier on test set: 0.80\n"
     ]
    }
   ],
   "source": [
    "# LDA\n",
    "from sklearn.discriminant_analysis import LinearDiscriminantAnalysis\n",
    "lda = LinearDiscriminantAnalysis()\n",
    "lda.fit(X_train, y_train)\n",
    "print('Accuracy of LDA classifier on training set: {:.2f}'\n",
    "     .format(lda.score(X_train, y_train)))\n",
    "print('Accuracy of LDA classifier on test set: {:.2f}'\n",
    "     .format(lda.score(X_test, y_test)))"
   ]
  },
  {
   "cell_type": "code",
   "execution_count": 41,
   "metadata": {},
   "outputs": [
    {
     "name": "stdout",
     "output_type": "stream",
     "text": [
      "Accuracy of GNB classifier on training set: 0.79\n",
      "Accuracy of GNB classifier on test set: 0.80\n"
     ]
    }
   ],
   "source": [
    "# Gaussian Naive Bayes\n",
    "from sklearn.naive_bayes import GaussianNB\n",
    "gnb = GaussianNB()\n",
    "gnb.fit(X_train, y_train)\n",
    "print('Accuracy of GNB classifier on training set: {:.2f}'\n",
    "     .format(gnb.score(X_train, y_train)))\n",
    "print('Accuracy of GNB classifier on test set: {:.2f}'\n",
    "     .format(gnb.score(X_test, y_test)))\n"
   ]
  },
  {
   "cell_type": "code",
   "execution_count": 42,
   "metadata": {},
   "outputs": [
    {
     "name": "stdout",
     "output_type": "stream",
     "text": [
      "Accuracy of SVM classifier on training set: 0.67\n",
      "Accuracy of SVM classifier on test set: 0.70\n"
     ]
    }
   ],
   "source": [
    "# Support Vector Machine\n",
    "\n",
    "from sklearn.svm import SVC\n",
    "svm = SVC()\n",
    "svm.fit(X_train, y_train)\n",
    "print('Accuracy of SVM classifier on training set: {:.2f}'\n",
    "     .format(svm.score(X_train, y_train)))\n",
    "print('Accuracy of SVM classifier on test set: {:.2f}'\n",
    "     .format(svm.score(X_test, y_test)))"
   ]
  },
  {
   "cell_type": "code",
   "execution_count": 43,
   "metadata": {},
   "outputs": [
    {
     "name": "stdout",
     "output_type": "stream",
     "text": [
      "[[99 27]\n",
      " [20 64]]\n",
      "              precision    recall  f1-score   support\n",
      "\n",
      "           0       0.83      0.79      0.81       126\n",
      "           1       0.70      0.76      0.73        84\n",
      "\n",
      "    accuracy                           0.78       210\n",
      "   macro avg       0.77      0.77      0.77       210\n",
      "weighted avg       0.78      0.78      0.78       210\n",
      "\n"
     ]
    }
   ],
   "source": [
    "from sklearn.metrics import classification_report\n",
    "from sklearn.metrics import confusion_matrix\n",
    "pred = clf.predict(X_test)\n",
    "print(confusion_matrix(y_test, pred))\n",
    "print(classification_report(y_test, pred))"
   ]
  },
  {
   "cell_type": "code",
   "execution_count": 46,
   "metadata": {},
   "outputs": [
    {
     "ename": "ValueError",
     "evalue": "could not convert string to float: 'Q'",
     "output_type": "error",
     "traceback": [
      "\u001b[0;31m---------------------------------------------------------------------------\u001b[0m",
      "\u001b[0;31mValueError\u001b[0m                                Traceback (most recent call last)",
      "\u001b[0;32m<ipython-input-46-98a7c4c3eea4>\u001b[0m in \u001b[0;36m<module>\u001b[0;34m\u001b[0m\n\u001b[1;32m      3\u001b[0m \u001b[0mnp\u001b[0m\u001b[0;34m.\u001b[0m\u001b[0mwhere\u001b[0m\u001b[0;34m(\u001b[0m\u001b[0mpd\u001b[0m\u001b[0;34m.\u001b[0m\u001b[0misnull\u001b[0m\u001b[0;34m(\u001b[0m\u001b[0mdata\u001b[0m\u001b[0;34m)\u001b[0m\u001b[0;34m)\u001b[0m\u001b[0;34m\u001b[0m\u001b[0;34m\u001b[0m\u001b[0m\n\u001b[1;32m      4\u001b[0m \u001b[0;31m# Scaling\u001b[0m\u001b[0;34m\u001b[0m\u001b[0;34m\u001b[0m\u001b[0;34m\u001b[0m\u001b[0m\n\u001b[0;32m----> 5\u001b[0;31m \u001b[0mX_real_test\u001b[0m \u001b[0;34m=\u001b[0m \u001b[0mscaler\u001b[0m\u001b[0;34m.\u001b[0m\u001b[0mtransform\u001b[0m\u001b[0;34m(\u001b[0m\u001b[0mX_real_test\u001b[0m\u001b[0;34m)\u001b[0m\u001b[0;34m\u001b[0m\u001b[0;34m\u001b[0m\u001b[0m\n\u001b[0m\u001b[1;32m      6\u001b[0m \u001b[0;34m\u001b[0m\u001b[0m\n\u001b[1;32m      7\u001b[0m \u001b[0mtest_predictions\u001b[0m \u001b[0;34m=\u001b[0m \u001b[0mknn\u001b[0m\u001b[0;34m.\u001b[0m\u001b[0mpredict\u001b[0m\u001b[0;34m(\u001b[0m\u001b[0mX_real_test\u001b[0m\u001b[0;34m)\u001b[0m\u001b[0;34m\u001b[0m\u001b[0;34m\u001b[0m\u001b[0m\n",
      "\u001b[0;32m~/anaconda3/lib/python3.7/site-packages/sklearn/preprocessing/_data.py\u001b[0m in \u001b[0;36mtransform\u001b[0;34m(self, X)\u001b[0m\n\u001b[1;32m    433\u001b[0m \u001b[0;34m\u001b[0m\u001b[0m\n\u001b[1;32m    434\u001b[0m         X = self._validate_data(X, copy=self.copy, dtype=FLOAT_DTYPES,\n\u001b[0;32m--> 435\u001b[0;31m                                 force_all_finite=\"allow-nan\", reset=False)\n\u001b[0m\u001b[1;32m    436\u001b[0m \u001b[0;34m\u001b[0m\u001b[0m\n\u001b[1;32m    437\u001b[0m         \u001b[0mX\u001b[0m \u001b[0;34m*=\u001b[0m \u001b[0mself\u001b[0m\u001b[0;34m.\u001b[0m\u001b[0mscale_\u001b[0m\u001b[0;34m\u001b[0m\u001b[0;34m\u001b[0m\u001b[0m\n",
      "\u001b[0;32m~/anaconda3/lib/python3.7/site-packages/sklearn/base.py\u001b[0m in \u001b[0;36m_validate_data\u001b[0;34m(self, X, y, reset, validate_separately, **check_params)\u001b[0m\n\u001b[1;32m    419\u001b[0m             \u001b[0mout\u001b[0m \u001b[0;34m=\u001b[0m \u001b[0mX\u001b[0m\u001b[0;34m\u001b[0m\u001b[0;34m\u001b[0m\u001b[0m\n\u001b[1;32m    420\u001b[0m         \u001b[0;32melif\u001b[0m \u001b[0misinstance\u001b[0m\u001b[0;34m(\u001b[0m\u001b[0my\u001b[0m\u001b[0;34m,\u001b[0m \u001b[0mstr\u001b[0m\u001b[0;34m)\u001b[0m \u001b[0;32mand\u001b[0m \u001b[0my\u001b[0m \u001b[0;34m==\u001b[0m \u001b[0;34m'no_validation'\u001b[0m\u001b[0;34m:\u001b[0m\u001b[0;34m\u001b[0m\u001b[0;34m\u001b[0m\u001b[0m\n\u001b[0;32m--> 421\u001b[0;31m             \u001b[0mX\u001b[0m \u001b[0;34m=\u001b[0m \u001b[0mcheck_array\u001b[0m\u001b[0;34m(\u001b[0m\u001b[0mX\u001b[0m\u001b[0;34m,\u001b[0m \u001b[0;34m**\u001b[0m\u001b[0mcheck_params\u001b[0m\u001b[0;34m)\u001b[0m\u001b[0;34m\u001b[0m\u001b[0;34m\u001b[0m\u001b[0m\n\u001b[0m\u001b[1;32m    422\u001b[0m             \u001b[0mout\u001b[0m \u001b[0;34m=\u001b[0m \u001b[0mX\u001b[0m\u001b[0;34m\u001b[0m\u001b[0;34m\u001b[0m\u001b[0m\n\u001b[1;32m    423\u001b[0m         \u001b[0;32melse\u001b[0m\u001b[0;34m:\u001b[0m\u001b[0;34m\u001b[0m\u001b[0;34m\u001b[0m\u001b[0m\n",
      "\u001b[0;32m~/anaconda3/lib/python3.7/site-packages/sklearn/utils/validation.py\u001b[0m in \u001b[0;36minner_f\u001b[0;34m(*args, **kwargs)\u001b[0m\n\u001b[1;32m     61\u001b[0m             \u001b[0mextra_args\u001b[0m \u001b[0;34m=\u001b[0m \u001b[0mlen\u001b[0m\u001b[0;34m(\u001b[0m\u001b[0margs\u001b[0m\u001b[0;34m)\u001b[0m \u001b[0;34m-\u001b[0m \u001b[0mlen\u001b[0m\u001b[0;34m(\u001b[0m\u001b[0mall_args\u001b[0m\u001b[0;34m)\u001b[0m\u001b[0;34m\u001b[0m\u001b[0;34m\u001b[0m\u001b[0m\n\u001b[1;32m     62\u001b[0m             \u001b[0;32mif\u001b[0m \u001b[0mextra_args\u001b[0m \u001b[0;34m<=\u001b[0m \u001b[0;36m0\u001b[0m\u001b[0;34m:\u001b[0m\u001b[0;34m\u001b[0m\u001b[0;34m\u001b[0m\u001b[0m\n\u001b[0;32m---> 63\u001b[0;31m                 \u001b[0;32mreturn\u001b[0m \u001b[0mf\u001b[0m\u001b[0;34m(\u001b[0m\u001b[0;34m*\u001b[0m\u001b[0margs\u001b[0m\u001b[0;34m,\u001b[0m \u001b[0;34m**\u001b[0m\u001b[0mkwargs\u001b[0m\u001b[0;34m)\u001b[0m\u001b[0;34m\u001b[0m\u001b[0;34m\u001b[0m\u001b[0m\n\u001b[0m\u001b[1;32m     64\u001b[0m \u001b[0;34m\u001b[0m\u001b[0m\n\u001b[1;32m     65\u001b[0m             \u001b[0;31m# extra_args > 0\u001b[0m\u001b[0;34m\u001b[0m\u001b[0;34m\u001b[0m\u001b[0;34m\u001b[0m\u001b[0m\n",
      "\u001b[0;32m~/anaconda3/lib/python3.7/site-packages/sklearn/utils/validation.py\u001b[0m in \u001b[0;36mcheck_array\u001b[0;34m(array, accept_sparse, accept_large_sparse, dtype, order, copy, force_all_finite, ensure_2d, allow_nd, ensure_min_samples, ensure_min_features, estimator)\u001b[0m\n\u001b[1;32m    671\u001b[0m                     \u001b[0marray\u001b[0m \u001b[0;34m=\u001b[0m \u001b[0marray\u001b[0m\u001b[0;34m.\u001b[0m\u001b[0mastype\u001b[0m\u001b[0;34m(\u001b[0m\u001b[0mdtype\u001b[0m\u001b[0;34m,\u001b[0m \u001b[0mcasting\u001b[0m\u001b[0;34m=\u001b[0m\u001b[0;34m\"unsafe\"\u001b[0m\u001b[0;34m,\u001b[0m \u001b[0mcopy\u001b[0m\u001b[0;34m=\u001b[0m\u001b[0;32mFalse\u001b[0m\u001b[0;34m)\u001b[0m\u001b[0;34m\u001b[0m\u001b[0;34m\u001b[0m\u001b[0m\n\u001b[1;32m    672\u001b[0m                 \u001b[0;32melse\u001b[0m\u001b[0;34m:\u001b[0m\u001b[0;34m\u001b[0m\u001b[0;34m\u001b[0m\u001b[0m\n\u001b[0;32m--> 673\u001b[0;31m                     \u001b[0marray\u001b[0m \u001b[0;34m=\u001b[0m \u001b[0mnp\u001b[0m\u001b[0;34m.\u001b[0m\u001b[0masarray\u001b[0m\u001b[0;34m(\u001b[0m\u001b[0marray\u001b[0m\u001b[0;34m,\u001b[0m \u001b[0morder\u001b[0m\u001b[0;34m=\u001b[0m\u001b[0morder\u001b[0m\u001b[0;34m,\u001b[0m \u001b[0mdtype\u001b[0m\u001b[0;34m=\u001b[0m\u001b[0mdtype\u001b[0m\u001b[0;34m)\u001b[0m\u001b[0;34m\u001b[0m\u001b[0;34m\u001b[0m\u001b[0m\n\u001b[0m\u001b[1;32m    674\u001b[0m             \u001b[0;32mexcept\u001b[0m \u001b[0mComplexWarning\u001b[0m \u001b[0;32mas\u001b[0m \u001b[0mcomplex_warning\u001b[0m\u001b[0;34m:\u001b[0m\u001b[0;34m\u001b[0m\u001b[0;34m\u001b[0m\u001b[0m\n\u001b[1;32m    675\u001b[0m                 raise ValueError(\"Complex data not supported\\n\"\n",
      "\u001b[0;32m~/anaconda3/lib/python3.7/site-packages/numpy/core/_asarray.py\u001b[0m in \u001b[0;36masarray\u001b[0;34m(a, dtype, order, like)\u001b[0m\n\u001b[1;32m    100\u001b[0m         \u001b[0;32mreturn\u001b[0m \u001b[0m_asarray_with_like\u001b[0m\u001b[0;34m(\u001b[0m\u001b[0ma\u001b[0m\u001b[0;34m,\u001b[0m \u001b[0mdtype\u001b[0m\u001b[0;34m=\u001b[0m\u001b[0mdtype\u001b[0m\u001b[0;34m,\u001b[0m \u001b[0morder\u001b[0m\u001b[0;34m=\u001b[0m\u001b[0morder\u001b[0m\u001b[0;34m,\u001b[0m \u001b[0mlike\u001b[0m\u001b[0;34m=\u001b[0m\u001b[0mlike\u001b[0m\u001b[0;34m)\u001b[0m\u001b[0;34m\u001b[0m\u001b[0;34m\u001b[0m\u001b[0m\n\u001b[1;32m    101\u001b[0m \u001b[0;34m\u001b[0m\u001b[0m\n\u001b[0;32m--> 102\u001b[0;31m     \u001b[0;32mreturn\u001b[0m \u001b[0marray\u001b[0m\u001b[0;34m(\u001b[0m\u001b[0ma\u001b[0m\u001b[0;34m,\u001b[0m \u001b[0mdtype\u001b[0m\u001b[0;34m,\u001b[0m \u001b[0mcopy\u001b[0m\u001b[0;34m=\u001b[0m\u001b[0;32mFalse\u001b[0m\u001b[0;34m,\u001b[0m \u001b[0morder\u001b[0m\u001b[0;34m=\u001b[0m\u001b[0morder\u001b[0m\u001b[0;34m)\u001b[0m\u001b[0;34m\u001b[0m\u001b[0;34m\u001b[0m\u001b[0m\n\u001b[0m\u001b[1;32m    103\u001b[0m \u001b[0;34m\u001b[0m\u001b[0m\n\u001b[1;32m    104\u001b[0m \u001b[0;34m\u001b[0m\u001b[0m\n",
      "\u001b[0;32m~/anaconda3/lib/python3.7/site-packages/pandas/core/generic.py\u001b[0m in \u001b[0;36m__array__\u001b[0;34m(self, dtype)\u001b[0m\n\u001b[1;32m   1897\u001b[0m \u001b[0;34m\u001b[0m\u001b[0m\n\u001b[1;32m   1898\u001b[0m     \u001b[0;32mdef\u001b[0m \u001b[0m__array__\u001b[0m\u001b[0;34m(\u001b[0m\u001b[0mself\u001b[0m\u001b[0;34m,\u001b[0m \u001b[0mdtype\u001b[0m\u001b[0;34m=\u001b[0m\u001b[0;32mNone\u001b[0m\u001b[0;34m)\u001b[0m \u001b[0;34m->\u001b[0m \u001b[0mnp\u001b[0m\u001b[0;34m.\u001b[0m\u001b[0mndarray\u001b[0m\u001b[0;34m:\u001b[0m\u001b[0;34m\u001b[0m\u001b[0;34m\u001b[0m\u001b[0m\n\u001b[0;32m-> 1899\u001b[0;31m         \u001b[0;32mreturn\u001b[0m \u001b[0mnp\u001b[0m\u001b[0;34m.\u001b[0m\u001b[0masarray\u001b[0m\u001b[0;34m(\u001b[0m\u001b[0mself\u001b[0m\u001b[0;34m.\u001b[0m\u001b[0m_values\u001b[0m\u001b[0;34m,\u001b[0m \u001b[0mdtype\u001b[0m\u001b[0;34m=\u001b[0m\u001b[0mdtype\u001b[0m\u001b[0;34m)\u001b[0m\u001b[0;34m\u001b[0m\u001b[0;34m\u001b[0m\u001b[0m\n\u001b[0m\u001b[1;32m   1900\u001b[0m \u001b[0;34m\u001b[0m\u001b[0m\n\u001b[1;32m   1901\u001b[0m     def __array_wrap__(\n",
      "\u001b[0;32m~/anaconda3/lib/python3.7/site-packages/numpy/core/_asarray.py\u001b[0m in \u001b[0;36masarray\u001b[0;34m(a, dtype, order, like)\u001b[0m\n\u001b[1;32m    100\u001b[0m         \u001b[0;32mreturn\u001b[0m \u001b[0m_asarray_with_like\u001b[0m\u001b[0;34m(\u001b[0m\u001b[0ma\u001b[0m\u001b[0;34m,\u001b[0m \u001b[0mdtype\u001b[0m\u001b[0;34m=\u001b[0m\u001b[0mdtype\u001b[0m\u001b[0;34m,\u001b[0m \u001b[0morder\u001b[0m\u001b[0;34m=\u001b[0m\u001b[0morder\u001b[0m\u001b[0;34m,\u001b[0m \u001b[0mlike\u001b[0m\u001b[0;34m=\u001b[0m\u001b[0mlike\u001b[0m\u001b[0;34m)\u001b[0m\u001b[0;34m\u001b[0m\u001b[0;34m\u001b[0m\u001b[0m\n\u001b[1;32m    101\u001b[0m \u001b[0;34m\u001b[0m\u001b[0m\n\u001b[0;32m--> 102\u001b[0;31m     \u001b[0;32mreturn\u001b[0m \u001b[0marray\u001b[0m\u001b[0;34m(\u001b[0m\u001b[0ma\u001b[0m\u001b[0;34m,\u001b[0m \u001b[0mdtype\u001b[0m\u001b[0;34m,\u001b[0m \u001b[0mcopy\u001b[0m\u001b[0;34m=\u001b[0m\u001b[0;32mFalse\u001b[0m\u001b[0;34m,\u001b[0m \u001b[0morder\u001b[0m\u001b[0;34m=\u001b[0m\u001b[0morder\u001b[0m\u001b[0;34m)\u001b[0m\u001b[0;34m\u001b[0m\u001b[0;34m\u001b[0m\u001b[0m\n\u001b[0m\u001b[1;32m    103\u001b[0m \u001b[0;34m\u001b[0m\u001b[0m\n\u001b[1;32m    104\u001b[0m \u001b[0;34m\u001b[0m\u001b[0m\n",
      "\u001b[0;31mValueError\u001b[0m: could not convert string to float: 'Q'"
     ]
    }
   ],
   "source": [
    "# Predicitng Survival of Test Set\n",
    "X_real_test = data_test[feature_names]\n",
    "np.where(pd.isnull(data))\n",
    "# Scaling\n",
    "X_real_test = scaler.transform(X_real_test)\n",
    "\n",
    "test_predictions = knn.predict(X_real_test)"
   ]
  },
  {
   "cell_type": "code",
   "execution_count": null,
   "metadata": {},
   "outputs": [],
   "source": [
    "# Using DataFrame.insert() to add a column to original test data\n",
    "data_test.insert(2, \"Survived\", test_predictions, True) "
   ]
  },
  {
   "cell_type": "code",
   "execution_count": null,
   "metadata": {},
   "outputs": [],
   "source": [
    "# Check for NaN in Dataframe\n",
    "np.where(pd.isnull(data_test))"
   ]
  },
  {
   "cell_type": "code",
   "execution_count": null,
   "metadata": {},
   "outputs": [],
   "source": [
    "# Splicing Columns from Dataframe\n",
    "submiss_table = data_test[[\"PassengerId\",\"Survived\"]]\n",
    "# Writing Dataframe to new File\n",
    "file_name = \"submission.csv\"\n",
    "submiss_table.to_csv(file_name,index=False)\n"
   ]
  },
  {
   "cell_type": "markdown",
   "metadata": {},
   "source": [
    "# End of Original Analysis"
   ]
  },
  {
   "cell_type": "code",
   "execution_count": null,
   "metadata": {},
   "outputs": [],
   "source": [
    "import pandas_profiling \n",
    "profile = pandas_profiling.ProfileReport(data)\n",
    "profile.to_file(outputfile=\"your_report.html\")\n"
   ]
  },
  {
   "cell_type": "code",
   "execution_count": null,
   "metadata": {},
   "outputs": [],
   "source": [
    "help(profile.to_file   \n",
    "    )"
   ]
  },
  {
   "cell_type": "markdown",
   "metadata": {},
   "source": [
    "# Feature Engineering"
   ]
  },
  {
   "cell_type": "code",
   "execution_count": null,
   "metadata": {},
   "outputs": [],
   "source": []
  }
 ],
 "metadata": {
  "kernelspec": {
   "display_name": "Python 3",
   "language": "python",
   "name": "python3"
  },
  "language_info": {
   "codemirror_mode": {
    "name": "ipython",
    "version": 3
   },
   "file_extension": ".py",
   "mimetype": "text/x-python",
   "name": "python",
   "nbconvert_exporter": "python",
   "pygments_lexer": "ipython3",
   "version": "3.7.4"
  }
 },
 "nbformat": 4,
 "nbformat_minor": 2
}
